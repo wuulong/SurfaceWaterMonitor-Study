{
  "nbformat": 4,
  "nbformat_minor": 0,
  "metadata": {
    "colab": {
      "name": "satellite_D1.ipynb",
      "provenance": [],
      "collapsed_sections": []
    },
    "kernelspec": {
      "name": "python3",
      "display_name": "Python 3"
    }
  },
  "cells": [
    {
      "cell_type": "markdown",
      "metadata": {
        "id": "h6ftzn5Ab-Wk"
      },
      "source": [
        "# General Introduction"
      ]
    },
    {
      "cell_type": "markdown",
      "metadata": {
        "id": "UYaK5l4Ja_Xn"
      },
      "source": [
        "Monitoring Changes in Surface Water Using Satellite Image Data : Deliverable 1\n",
        "\n",
        "For section: 1: Getting Started\n",
        "\n",
        "Who: WuLung Hsu, 2020/11/15\n",
        "\n",
        "Features: \n",
        "\n",
        "*   Get years of satellite image of reservoir nearby.\n",
        "*   adjust the pixel value\n",
        "*   Show it and import to Keras\n",
        "\n"
      ]
    },
    {
      "cell_type": "markdown",
      "metadata": {
        "id": "iQFNxcV3cD5M"
      },
      "source": [
        "# Setup & Maintain"
      ]
    },
    {
      "cell_type": "code",
      "metadata": {
        "id": "EQtgcnYTcHmu"
      },
      "source": [
        "!pip install sentinelhub\n",
        "!pip install utils\n",
        "!pip install tensorflow\n",
        "!pip install rasterio"
      ],
      "execution_count": null,
      "outputs": []
    },
    {
      "cell_type": "markdown",
      "metadata": {
        "id": "vr5AcpRK670t"
      },
      "source": [
        "Maintain data may need to use"
      ]
    },
    {
      "cell_type": "code",
      "metadata": {
        "id": "n5CZOsW2lSay"
      },
      "source": [
        "#!rm -rf  test_dir\n",
        "#!zip -r test_dir.zip test_dir"
      ],
      "execution_count": 100,
      "outputs": []
    },
    {
      "cell_type": "markdown",
      "metadata": {
        "id": "Qc2jY_XDcP0k"
      },
      "source": [
        "# Download from Sentinel Hub, Manually upload to google drive (can skip)"
      ]
    },
    {
      "cell_type": "markdown",
      "metadata": {
        "id": "QvdD-o5cdeHT"
      },
      "source": [
        "Init for sentinelhub"
      ]
    },
    {
      "cell_type": "code",
      "metadata": {
        "id": "CK3z9huxdV-u"
      },
      "source": [
        "from sentinelhub import SHConfig\n",
        "import datetime\n",
        "import numpy as np\n",
        "import matplotlib.pyplot as plt\n",
        "from sentinelhub import MimeType, CRS, BBox, SentinelHubRequest, SentinelHubDownloadClient, DataCollection, bbox_to_dimensions, DownloadRequest\n",
        "\n",
        "# In case you put the credentials into the configuration file you can leave this unchanged\n",
        "\n",
        "CLIENT_ID = '<client_id>'\n",
        "CLIENT_SECRET = '<secret>'\n",
        "\n",
        "config = SHConfig()\n",
        "\n",
        "if CLIENT_ID and CLIENT_SECRET:\n",
        "    config.sh_client_id = CLIENT_ID\n",
        "    config.sh_client_secret = CLIENT_SECRET\n",
        "\n",
        "if config.sh_client_id == '' or config.sh_client_secret == '':\n",
        "    print(\"Warning! To use Sentinel Hub services, please provide the credentials (client ID and client secret).\")\n",
        "\n"
      ],
      "execution_count": 101,
      "outputs": []
    },
    {
      "cell_type": "markdown",
      "metadata": {
        "id": "kY9pz0iO7Nj7"
      },
      "source": [
        "Download satellite data to disk"
      ]
    },
    {
      "cell_type": "code",
      "metadata": {
        "id": "3y-n91yPfJ8D",
        "outputId": "82c49c11-0f4a-4e40-d576-a535f9ba793e",
        "colab": {
          "base_uri": "https://localhost:8080/"
        }
      },
      "source": [
        "def gen_slots(pars):\n",
        "  start = pars['start']\n",
        "  end = pars['end']\n",
        "  n_chunks = pars['n_chunks']\n",
        "\n",
        "  tdelta = (end - start) / n_chunks\n",
        "  edges = [(start + i*tdelta).date().isoformat() for i in range(n_chunks+1)]\n",
        "  #print(edges)\n",
        "  slots = [(edges[i], edges[i+1]) for i in range(len(edges)-1)]\n",
        "  print('Monthly time windows:\\n')\n",
        "  for slot in slots:\n",
        "      print(slot)\n",
        "  return slots\n",
        "\n",
        "def get_true_color_request(time_interval,pars):\n",
        "  name = pars['dir_name']\n",
        "  reservoir_wgs84 = pars['wgs84'] #[121.021, 24.708, 121.128, 24.764]\n",
        "  resolution = pars['resolution'] #Resolution of desired image in meters\n",
        "  reservoir_bbox = BBox(bbox=reservoir_wgs84, crs=CRS.WGS84)\n",
        "  reservoir_size = bbox_to_dimensions(reservoir_bbox, resolution=resolution)\n",
        "  evalscript_true_color = \"\"\"\n",
        "      //VERSION=3\n",
        "\n",
        "      function setup() {\n",
        "          return {\n",
        "              input: [{\n",
        "                  bands: [\"B02\", \"B03\", \"B04\"]\n",
        "              }],\n",
        "              output: {\n",
        "                  bands: 3\n",
        "              }\n",
        "          };\n",
        "      }\n",
        "\n",
        "      function evaluatePixel(sample) {\n",
        "          return [sample.B04, sample.B03, sample.B02];\n",
        "      }\n",
        "  \"\"\"\n",
        "  return SentinelHubRequest(\n",
        "      evalscript=evalscript_true_color,\n",
        "      input_data=[\n",
        "          SentinelHubRequest.input_data(\n",
        "              data_collection=DataCollection.SENTINEL2_L1C,\n",
        "              time_interval=time_interval,\n",
        "              mosaicking_order='leastCC'\n",
        "          )\n",
        "      ],\n",
        "      responses=[\n",
        "          SentinelHubRequest.output_response('default', MimeType.PNG)\n",
        "      ],\n",
        "      bbox=reservoir_bbox,\n",
        "      size=reservoir_size,\n",
        "      config=config,\n",
        "      data_folder='test_dir/%s' %(name),\n",
        "  )\n",
        "\n",
        "#init pars\n",
        "pars = {\n",
        "    \"dir_name\": \"2018\",\n",
        "    \"start\": datetime.datetime(2018,1,1), \n",
        "    \"end\": datetime.datetime(2018,12,31), \n",
        "    \"n_chunks\": 12 ,\n",
        "    \"wgs84\": [121.021, 24.708, 121.128, 24.764],\n",
        "    \"resolution\": 60,\n",
        "    } \n",
        "# create a list of requests\n",
        "for year in range(2017,2020):\n",
        "  pars[\"dir_name\"]=str(year)\n",
        "  pars[\"start\"]=datetime.datetime(year,1,1) \n",
        "  pars[\"end\"]= datetime.datetime(year,12,31)\n",
        "  slots = gen_slots(pars)\n",
        "  list_of_requests = [get_true_color_request(slot,pars) for slot in slots]\n",
        "  list_of_requests = [request.download_list[0] for request in list_of_requests]\n",
        "\n",
        "  # download data with multiple threads\n",
        "  data = SentinelHubDownloadClient(config=config).download(list_of_requests, max_threads=5)\n"
      ],
      "execution_count": 102,
      "outputs": [
        {
          "output_type": "stream",
          "text": [
            "Monthly time windows:\n",
            "\n",
            "('2017-01-01', '2017-01-31')\n",
            "('2017-01-31', '2017-03-02')\n",
            "('2017-03-02', '2017-04-02')\n",
            "('2017-04-02', '2017-05-02')\n",
            "('2017-05-02', '2017-06-01')\n",
            "('2017-06-01', '2017-07-02')\n",
            "('2017-07-02', '2017-08-01')\n",
            "('2017-08-01', '2017-08-31')\n",
            "('2017-08-31', '2017-10-01')\n",
            "('2017-10-01', '2017-10-31')\n",
            "('2017-10-31', '2017-11-30')\n",
            "('2017-11-30', '2017-12-31')\n",
            "Monthly time windows:\n",
            "\n",
            "('2018-01-01', '2018-01-31')\n",
            "('2018-01-31', '2018-03-02')\n",
            "('2018-03-02', '2018-04-02')\n",
            "('2018-04-02', '2018-05-02')\n",
            "('2018-05-02', '2018-06-01')\n",
            "('2018-06-01', '2018-07-02')\n",
            "('2018-07-02', '2018-08-01')\n",
            "('2018-08-01', '2018-08-31')\n",
            "('2018-08-31', '2018-10-01')\n",
            "('2018-10-01', '2018-10-31')\n",
            "('2018-10-31', '2018-11-30')\n",
            "('2018-11-30', '2018-12-31')\n",
            "Monthly time windows:\n",
            "\n",
            "('2019-01-01', '2019-01-31')\n",
            "('2019-01-31', '2019-03-02')\n",
            "('2019-03-02', '2019-04-02')\n",
            "('2019-04-02', '2019-05-02')\n",
            "('2019-05-02', '2019-06-01')\n",
            "('2019-06-01', '2019-07-02')\n",
            "('2019-07-02', '2019-08-01')\n",
            "('2019-08-01', '2019-08-31')\n",
            "('2019-08-31', '2019-10-01')\n",
            "('2019-10-01', '2019-10-31')\n",
            "('2019-10-31', '2019-11-30')\n",
            "('2019-11-30', '2019-12-31')\n"
          ],
          "name": "stdout"
        }
      ]
    },
    {
      "cell_type": "markdown",
      "metadata": {
        "id": "WHOFhUor7cAy"
      },
      "source": [
        "Pack to zip"
      ]
    },
    {
      "cell_type": "code",
      "metadata": {
        "id": "w6VQI7Zgm_BK"
      },
      "source": [
        "!zip -r test_dir.zip test_dir"
      ],
      "execution_count": null,
      "outputs": []
    },
    {
      "cell_type": "markdown",
      "metadata": {
        "id": "dg1HJfRZ7kUl"
      },
      "source": [
        "Manually download to disk, upload to google drive"
      ]
    },
    {
      "cell_type": "markdown",
      "metadata": {
        "id": "9ounOGmzclnC"
      },
      "source": [
        "# Download from google drive, adjust image and plot it"
      ]
    },
    {
      "cell_type": "code",
      "metadata": {
        "id": "fMDrJwfNnrJF"
      },
      "source": [
        "# from https://stackoverflow.com/questions/38511444/python-download-files-from-google-drive-using-url\n",
        "import requests\n",
        "\n",
        "def download_file_from_google_drive(id, destination):\n",
        "    URL = \"https://docs.google.com/uc?export=download\"\n",
        "\n",
        "    session = requests.Session()\n",
        "\n",
        "    response = session.get(URL, params = { 'id' : id }, stream = True)\n",
        "    token = get_confirm_token(response)\n",
        "\n",
        "    if token:\n",
        "        params = { 'id' : id, 'confirm' : token }\n",
        "        response = session.get(URL, params = params, stream = True)\n",
        "\n",
        "    save_response_content(response, destination)    \n",
        "\n",
        "def get_confirm_token(response):\n",
        "    for key, value in response.cookies.items():\n",
        "        if key.startswith('download_warning'):\n",
        "            return value\n",
        "\n",
        "    return None\n",
        "\n",
        "def save_response_content(response, destination):\n",
        "    CHUNK_SIZE = 32768\n",
        "\n",
        "    with open(destination, \"wb\") as f:\n",
        "        for chunk in response.iter_content(CHUNK_SIZE):\n",
        "            if chunk: # filter out keep-alive new chunks\n",
        "                f.write(chunk)\n",
        "\n",
        "#download from google drive\n",
        "file_id = '16avvC35LmzzRrw-weFcgZBmaH-0SyXlY'\n",
        "destination = '/content/test_dir.zip'\n",
        "download_file_from_google_drive(file_id, destination)\n",
        "\n",
        "#unzip\n",
        "import zipfile\n",
        "with zipfile.ZipFile(destination,\"r\") as zip_ref:\n",
        "    zip_ref.extractall(\"/content\")"
      ],
      "execution_count": 104,
      "outputs": []
    },
    {
      "cell_type": "markdown",
      "metadata": {
        "id": "kNFkkvYK4nM_"
      },
      "source": [
        "\n",
        "\n",
        "*   Modify images\n",
        "*   Modify dir name with time frame information\n",
        "\n"
      ]
    },
    {
      "cell_type": "code",
      "metadata": {
        "id": "LE-b7Xylof4h"
      },
      "source": [
        "from pathlib import Path\n",
        "from PIL import Image\n",
        "import os\n",
        "import json\n",
        "def get_image_title(img_path):\n",
        "  filename = os.path.join(os.path.dirname(img_path),\"request.json\")\n",
        "  with open(filename, 'r') as json_file:\n",
        "    data_head = json.load(json_file)\n",
        "\n",
        "  str_from = str(data_head['payload']['input']['data'][0]['dataFilter']['timeRange']['from'])\n",
        "  str_to = str(data_head['payload']['input']['data'][0]['dataFilter']['timeRange']['to'])\n",
        "  return \"%s_%s\" %(str_from,str_to)\n",
        "\n",
        "p = Path('/content/')\n",
        "img_list = list(p.glob('**/*.png'))\n",
        "\n",
        "# modify dirname to time frame\n",
        "for img_path in img_list:\n",
        "  title = get_image_title(img_path) \n",
        "  old = os.path.dirname(img_path)\n",
        "  new = os.path.join(os.path.dirname(old),title)\n",
        "  #print(\"%s,%s\" %(old,new))\n",
        "  if old!=new:\n",
        "    img = Image.open(img_path)\n",
        "    out = img.point(lambda i: i * 1.2) #check point, modify image\n",
        "    out.save(img_path)\n",
        "    os.rename(old,new)\n",
        "\n"
      ],
      "execution_count": 106,
      "outputs": []
    },
    {
      "cell_type": "markdown",
      "metadata": {
        "id": "XQG5Nn1t5GSn"
      },
      "source": [
        "Plot image to preview"
      ]
    },
    {
      "cell_type": "code",
      "metadata": {
        "id": "wy6QkYk0qPiq"
      },
      "source": [
        "p = Path('/content/')\n",
        "img_list = list(p.glob('**/*.png'))\n",
        "img_list.sort()\n",
        "# some stuff for pretty plots\n",
        "ncols = 4\n",
        "nrows = int(len(img_list)/ncols)\n",
        "subplot_kw = {'xticks': [], 'yticks': [], 'frame_on': False}\n",
        "\n",
        "fig, axs = plt.subplots(ncols=ncols, nrows=nrows,figsize=(5 * ncols * 2, 5 * nrows), subplot_kw=subplot_kw)\n",
        "\n",
        "for idx in range(len(img_list)):\n",
        "  img_path = img_list[idx]\n",
        "  ax = axs[idx // ncols][idx % ncols]\n",
        "  image = mpimg.imread(img_path)\n",
        "  #ax.imshow(np.clip(image * 2.5/255, 0, 1))\n",
        "  ax.imshow(image)\n",
        "  ax.set_title(get_image_title(img_path), fontsize=14)\n",
        "plt.tight_layout()"
      ],
      "execution_count": null,
      "outputs": []
    },
    {
      "cell_type": "markdown",
      "metadata": {
        "id": "TZrEBRN-dH4C"
      },
      "source": [
        "# Import to Keras"
      ]
    },
    {
      "cell_type": "code",
      "metadata": {
        "id": "yaG1l7fq5bUt",
        "outputId": "ea15bb17-77a4-4095-c8fc-163a0c455a9b",
        "colab": {
          "base_uri": "https://localhost:8080/"
        }
      },
      "source": [
        "import tensorflow as tf\n",
        "IMAGE_SIZE=128\n",
        "BATCH_SIZE=32\n",
        "base_dir=\"/content/test_dir\"\n",
        "train_gen = tf.keras.preprocessing.image.ImageDataGenerator()\n",
        "train_generator = train_gen.flow_from_directory(base_dir,target_size=(IMAGE_SIZE, IMAGE_SIZE),batch_size=BATCH_SIZE, subset='training')"
      ],
      "execution_count": 108,
      "outputs": [
        {
          "output_type": "stream",
          "text": [
            "Found 36 images belonging to 3 classes.\n"
          ],
          "name": "stdout"
        }
      ]
    },
    {
      "cell_type": "code",
      "metadata": {
        "id": "Jy30gjTT5j3W",
        "outputId": "3c6fd088-1d33-46d6-cfce-923f63262979",
        "colab": {
          "base_uri": "https://localhost:8080/"
        }
      },
      "source": [
        "train_generator.classes"
      ],
      "execution_count": 99,
      "outputs": [
        {
          "output_type": "execute_result",
          "data": {
            "text/plain": [
              "array([0, 0, 0, 0, 0, 0, 0, 0, 0, 0, 0, 0, 1, 1, 1, 1, 1, 1, 1, 1, 1, 1,\n",
              "       1, 1, 2, 2, 2, 2, 2, 2, 2, 2, 2, 2, 2, 2], dtype=int32)"
            ]
          },
          "metadata": {
            "tags": []
          },
          "execution_count": 99
        }
      ]
    },
    {
      "cell_type": "markdown",
      "metadata": {
        "id": "eG6VSXvZFuGp"
      },
      "source": [
        "# Read raster image by rasterio"
      ]
    },
    {
      "cell_type": "markdown",
      "metadata": {
        "id": "8q2oOilJIHu4"
      },
      "source": [
        "Download raster example with tiff format"
      ]
    },
    {
      "cell_type": "code",
      "metadata": {
        "id": "8MXqTuw9GiEA",
        "outputId": "31ecc00a-74d3-41b1-e81c-d930d6bfaea1",
        "colab": {
          "base_uri": "https://localhost:8080/"
        }
      },
      "source": [
        "reservoir_wgs84 = [121.021, 24.708, 121.128, 24.764]\n",
        "resolution = 60 #Resolution of desired image in meters\n",
        "reservoir_bbox = BBox(bbox=reservoir_wgs84, crs=CRS.WGS84)\n",
        "reservoir_size = bbox_to_dimensions(reservoir_bbox, resolution=resolution)\n",
        "\n",
        "evalscript_all_bands = \"\"\"\n",
        "    //VERSION=3\n",
        "    function setup() {\n",
        "        return {\n",
        "            input: [{\n",
        "                bands: [\"B01\",\"B02\",\"B03\",\"B04\",\"B05\",\"B06\",\"B07\",\"B08\",\"B8A\",\"B09\",\"B10\",\"B11\",\"B12\"],\n",
        "                units: \"DN\"\n",
        "            }],\n",
        "            output: {\n",
        "                bands: 13,\n",
        "                sampleType: \"INT16\"\n",
        "            }\n",
        "        };\n",
        "    }\n",
        "\n",
        "    function evaluatePixel(sample) {\n",
        "        return [sample.B01,\n",
        "                sample.B02,\n",
        "                sample.B03,\n",
        "                sample.B04,\n",
        "                sample.B05,\n",
        "                sample.B06,\n",
        "                sample.B07,\n",
        "                sample.B08,\n",
        "                sample.B8A,\n",
        "                sample.B09,\n",
        "                sample.B10,\n",
        "                sample.B11,\n",
        "                sample.B12];\n",
        "    }\n",
        "\"\"\"\n",
        "\n",
        "\n",
        "request_all_bands = SentinelHubRequest(\n",
        "    data_folder='test_dir2',\n",
        "    evalscript=evalscript_all_bands,\n",
        "    input_data=[\n",
        "        SentinelHubRequest.input_data(\n",
        "            data_collection=DataCollection.SENTINEL2_L1C,\n",
        "            time_interval=('2020-06-01', '2020-06-30'),\n",
        "            mosaicking_order='leastCC'\n",
        "    )],\n",
        "    responses=[\n",
        "        SentinelHubRequest.output_response('default', MimeType.TIFF)\n",
        "    ],\n",
        "    bbox=reservoir_bbox,\n",
        "    size=reservoir_size,\n",
        "    config=config\n",
        ")\n",
        "import os\n",
        "all_bands_img = request_all_bands.get_data(save_data=True)\n",
        "\n",
        "print(f'The output directory has been created and a tiff file with all 13 bands was saved into ' \\\n",
        "      'the following structure:\\n')\n",
        "request_all_bands.save_data()\n",
        "\n",
        "for folder, _, filenames in os.walk(request_all_bands.data_folder):\n",
        "    for filename in filenames:\n",
        "        print(os.path.join(folder, filename))"
      ],
      "execution_count": 114,
      "outputs": [
        {
          "output_type": "stream",
          "text": [
            "The output directory has been created and a tiff file with all 13 bands was saved into the following structure:\n",
            "\n",
            "test_dir2/28be113f1f9cbc31098da7cbccf7ef77/request.json\n",
            "test_dir2/28be113f1f9cbc31098da7cbccf7ef77/response.tiff\n"
          ],
          "name": "stdout"
        }
      ]
    },
    {
      "cell_type": "markdown",
      "metadata": {
        "id": "oVk4xd2yH_I_"
      },
      "source": [
        "Read raster information"
      ]
    },
    {
      "cell_type": "code",
      "metadata": {
        "id": "WVVu-hE7F9f3",
        "outputId": "1e95207a-18f9-4849-9908-97e6c1688146",
        "colab": {
          "base_uri": "https://localhost:8080/"
        }
      },
      "source": [
        "import rasterio\n",
        "import glob\n",
        "import os\n",
        "fp = \"/content/test_dir2/28be113f1f9cbc31098da7cbccf7ef77/response.tiff\"\n",
        "raster = rasterio.open(fp)\n",
        "raster.meta"
      ],
      "execution_count": 115,
      "outputs": [
        {
          "output_type": "execute_result",
          "data": {
            "text/plain": [
              "{'count': 13,\n",
              " 'crs': CRS.from_epsg(4326),\n",
              " 'driver': 'GTiff',\n",
              " 'dtype': 'uint16',\n",
              " 'height': 101,\n",
              " 'nodata': None,\n",
              " 'transform': Affine(0.0005879120879120842, 0.0, 121.021,\n",
              "       0.0, -0.0005544554455445637, 24.764),\n",
              " 'width': 182}"
            ]
          },
          "metadata": {
            "tags": []
          },
          "execution_count": 115
        }
      ]
    }
  ]
}