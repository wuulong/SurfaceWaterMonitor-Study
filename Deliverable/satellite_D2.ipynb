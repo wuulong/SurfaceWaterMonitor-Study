{
  "nbformat": 4,
  "nbformat_minor": 0,
  "metadata": {
    "colab": {
      "name": "satellite_D2.ipynb",
      "provenance": [],
      "collapsed_sections": [],
      "toc_visible": true
    },
    "kernelspec": {
      "name": "python3",
      "display_name": "Python 3"
    },
    "widgets": {
      "application/vnd.jupyter.widget-state+json": {
        "8a4cc21243f74ee0a718083d7d724ce6": {
          "model_module": "@jupyter-widgets/controls",
          "model_name": "HBoxModel",
          "state": {
            "_view_name": "HBoxView",
            "_dom_classes": [],
            "_model_name": "HBoxModel",
            "_view_module": "@jupyter-widgets/controls",
            "_model_module_version": "1.5.0",
            "_view_count": null,
            "_view_module_version": "1.5.0",
            "box_style": "",
            "layout": "IPY_MODEL_e830f03ea6e84c8fa08bf35f356098d5",
            "_model_module": "@jupyter-widgets/controls",
            "children": [
              "IPY_MODEL_7b6f05fee4f14d408b9ff7c9f6a62006",
              "IPY_MODEL_1bd761e816d34557bdcab4688836246f"
            ]
          }
        },
        "e830f03ea6e84c8fa08bf35f356098d5": {
          "model_module": "@jupyter-widgets/base",
          "model_name": "LayoutModel",
          "state": {
            "_view_name": "LayoutView",
            "grid_template_rows": null,
            "right": null,
            "justify_content": null,
            "_view_module": "@jupyter-widgets/base",
            "overflow": null,
            "_model_module_version": "1.2.0",
            "_view_count": null,
            "flex_flow": null,
            "width": null,
            "min_width": null,
            "border": null,
            "align_items": null,
            "bottom": null,
            "_model_module": "@jupyter-widgets/base",
            "top": null,
            "grid_column": null,
            "overflow_y": null,
            "overflow_x": null,
            "grid_auto_flow": null,
            "grid_area": null,
            "grid_template_columns": null,
            "flex": null,
            "_model_name": "LayoutModel",
            "justify_items": null,
            "grid_row": null,
            "max_height": null,
            "align_content": null,
            "visibility": null,
            "align_self": null,
            "height": null,
            "min_height": null,
            "padding": null,
            "grid_auto_rows": null,
            "grid_gap": null,
            "max_width": null,
            "order": null,
            "_view_module_version": "1.2.0",
            "grid_template_areas": null,
            "object_position": null,
            "object_fit": null,
            "grid_auto_columns": null,
            "margin": null,
            "display": null,
            "left": null
          }
        },
        "7b6f05fee4f14d408b9ff7c9f6a62006": {
          "model_module": "@jupyter-widgets/controls",
          "model_name": "FloatProgressModel",
          "state": {
            "_view_name": "ProgressView",
            "style": "IPY_MODEL_ab75576e92fc46388706bd8ca5158f75",
            "_dom_classes": [],
            "description": "Dl Completed...: 100%",
            "_model_name": "FloatProgressModel",
            "bar_style": "success",
            "max": 1,
            "_view_module": "@jupyter-widgets/controls",
            "_model_module_version": "1.5.0",
            "value": 1,
            "_view_count": null,
            "_view_module_version": "1.5.0",
            "orientation": "horizontal",
            "min": 0,
            "description_tooltip": null,
            "_model_module": "@jupyter-widgets/controls",
            "layout": "IPY_MODEL_82e8459c18734e079ad96066b5af3d7a"
          }
        },
        "1bd761e816d34557bdcab4688836246f": {
          "model_module": "@jupyter-widgets/controls",
          "model_name": "HTMLModel",
          "state": {
            "_view_name": "HTMLView",
            "style": "IPY_MODEL_1001d61ef16540dcb25e772f38e0d4fa",
            "_dom_classes": [],
            "description": "",
            "_model_name": "HTMLModel",
            "placeholder": "​",
            "_view_module": "@jupyter-widgets/controls",
            "_model_module_version": "1.5.0",
            "value": " 2/2 [00:02&lt;00:00,  1.33s/ url]",
            "_view_count": null,
            "_view_module_version": "1.5.0",
            "description_tooltip": null,
            "_model_module": "@jupyter-widgets/controls",
            "layout": "IPY_MODEL_7b7c71d331474c8c830bca4f17248105"
          }
        },
        "ab75576e92fc46388706bd8ca5158f75": {
          "model_module": "@jupyter-widgets/controls",
          "model_name": "ProgressStyleModel",
          "state": {
            "_view_name": "StyleView",
            "_model_name": "ProgressStyleModel",
            "description_width": "initial",
            "_view_module": "@jupyter-widgets/base",
            "_model_module_version": "1.5.0",
            "_view_count": null,
            "_view_module_version": "1.2.0",
            "bar_color": null,
            "_model_module": "@jupyter-widgets/controls"
          }
        },
        "82e8459c18734e079ad96066b5af3d7a": {
          "model_module": "@jupyter-widgets/base",
          "model_name": "LayoutModel",
          "state": {
            "_view_name": "LayoutView",
            "grid_template_rows": null,
            "right": null,
            "justify_content": null,
            "_view_module": "@jupyter-widgets/base",
            "overflow": null,
            "_model_module_version": "1.2.0",
            "_view_count": null,
            "flex_flow": null,
            "width": null,
            "min_width": null,
            "border": null,
            "align_items": null,
            "bottom": null,
            "_model_module": "@jupyter-widgets/base",
            "top": null,
            "grid_column": null,
            "overflow_y": null,
            "overflow_x": null,
            "grid_auto_flow": null,
            "grid_area": null,
            "grid_template_columns": null,
            "flex": null,
            "_model_name": "LayoutModel",
            "justify_items": null,
            "grid_row": null,
            "max_height": null,
            "align_content": null,
            "visibility": null,
            "align_self": null,
            "height": null,
            "min_height": null,
            "padding": null,
            "grid_auto_rows": null,
            "grid_gap": null,
            "max_width": null,
            "order": null,
            "_view_module_version": "1.2.0",
            "grid_template_areas": null,
            "object_position": null,
            "object_fit": null,
            "grid_auto_columns": null,
            "margin": null,
            "display": null,
            "left": null
          }
        },
        "1001d61ef16540dcb25e772f38e0d4fa": {
          "model_module": "@jupyter-widgets/controls",
          "model_name": "DescriptionStyleModel",
          "state": {
            "_view_name": "StyleView",
            "_model_name": "DescriptionStyleModel",
            "description_width": "",
            "_view_module": "@jupyter-widgets/base",
            "_model_module_version": "1.5.0",
            "_view_count": null,
            "_view_module_version": "1.2.0",
            "_model_module": "@jupyter-widgets/controls"
          }
        },
        "7b7c71d331474c8c830bca4f17248105": {
          "model_module": "@jupyter-widgets/base",
          "model_name": "LayoutModel",
          "state": {
            "_view_name": "LayoutView",
            "grid_template_rows": null,
            "right": null,
            "justify_content": null,
            "_view_module": "@jupyter-widgets/base",
            "overflow": null,
            "_model_module_version": "1.2.0",
            "_view_count": null,
            "flex_flow": null,
            "width": null,
            "min_width": null,
            "border": null,
            "align_items": null,
            "bottom": null,
            "_model_module": "@jupyter-widgets/base",
            "top": null,
            "grid_column": null,
            "overflow_y": null,
            "overflow_x": null,
            "grid_auto_flow": null,
            "grid_area": null,
            "grid_template_columns": null,
            "flex": null,
            "_model_name": "LayoutModel",
            "justify_items": null,
            "grid_row": null,
            "max_height": null,
            "align_content": null,
            "visibility": null,
            "align_self": null,
            "height": null,
            "min_height": null,
            "padding": null,
            "grid_auto_rows": null,
            "grid_gap": null,
            "max_width": null,
            "order": null,
            "_view_module_version": "1.2.0",
            "grid_template_areas": null,
            "object_position": null,
            "object_fit": null,
            "grid_auto_columns": null,
            "margin": null,
            "display": null,
            "left": null
          }
        },
        "b72e02189f254d3fafbd65a7be7755c2": {
          "model_module": "@jupyter-widgets/controls",
          "model_name": "HBoxModel",
          "state": {
            "_view_name": "HBoxView",
            "_dom_classes": [],
            "_model_name": "HBoxModel",
            "_view_module": "@jupyter-widgets/controls",
            "_model_module_version": "1.5.0",
            "_view_count": null,
            "_view_module_version": "1.5.0",
            "box_style": "",
            "layout": "IPY_MODEL_35edad6867a7460a8d29e6559a5f5abb",
            "_model_module": "@jupyter-widgets/controls",
            "children": [
              "IPY_MODEL_c839205129f144f69da88007407e218c",
              "IPY_MODEL_f2d373b0e2584531bc29a7fe55616ed8"
            ]
          }
        },
        "35edad6867a7460a8d29e6559a5f5abb": {
          "model_module": "@jupyter-widgets/base",
          "model_name": "LayoutModel",
          "state": {
            "_view_name": "LayoutView",
            "grid_template_rows": null,
            "right": null,
            "justify_content": null,
            "_view_module": "@jupyter-widgets/base",
            "overflow": null,
            "_model_module_version": "1.2.0",
            "_view_count": null,
            "flex_flow": null,
            "width": null,
            "min_width": null,
            "border": null,
            "align_items": null,
            "bottom": null,
            "_model_module": "@jupyter-widgets/base",
            "top": null,
            "grid_column": null,
            "overflow_y": null,
            "overflow_x": null,
            "grid_auto_flow": null,
            "grid_area": null,
            "grid_template_columns": null,
            "flex": null,
            "_model_name": "LayoutModel",
            "justify_items": null,
            "grid_row": null,
            "max_height": null,
            "align_content": null,
            "visibility": null,
            "align_self": null,
            "height": null,
            "min_height": null,
            "padding": null,
            "grid_auto_rows": null,
            "grid_gap": null,
            "max_width": null,
            "order": null,
            "_view_module_version": "1.2.0",
            "grid_template_areas": null,
            "object_position": null,
            "object_fit": null,
            "grid_auto_columns": null,
            "margin": null,
            "display": null,
            "left": null
          }
        },
        "c839205129f144f69da88007407e218c": {
          "model_module": "@jupyter-widgets/controls",
          "model_name": "FloatProgressModel",
          "state": {
            "_view_name": "ProgressView",
            "style": "IPY_MODEL_cd0ebd13cfa34a5e8b4903186482f6e0",
            "_dom_classes": [],
            "description": "Dl Size...: ",
            "_model_name": "FloatProgressModel",
            "bar_style": "success",
            "max": 1,
            "_view_module": "@jupyter-widgets/controls",
            "_model_module_version": "1.5.0",
            "value": 0,
            "_view_count": null,
            "_view_module_version": "1.5.0",
            "orientation": "horizontal",
            "min": 0,
            "description_tooltip": null,
            "_model_module": "@jupyter-widgets/controls",
            "layout": "IPY_MODEL_3023374a7f4b4ae2b118d9c261d82a11"
          }
        },
        "f2d373b0e2584531bc29a7fe55616ed8": {
          "model_module": "@jupyter-widgets/controls",
          "model_name": "HTMLModel",
          "state": {
            "_view_name": "HTMLView",
            "style": "IPY_MODEL_f637708d1f4947a5a2e739641c495893",
            "_dom_classes": [],
            "description": "",
            "_model_name": "HTMLModel",
            "placeholder": "​",
            "_view_module": "@jupyter-widgets/controls",
            "_model_module_version": "1.5.0",
            "value": " 0/0 [00:02&lt;?, ? MiB/s]",
            "_view_count": null,
            "_view_module_version": "1.5.0",
            "description_tooltip": null,
            "_model_module": "@jupyter-widgets/controls",
            "layout": "IPY_MODEL_d37af008ec6644a5b067e147c2a755ed"
          }
        },
        "cd0ebd13cfa34a5e8b4903186482f6e0": {
          "model_module": "@jupyter-widgets/controls",
          "model_name": "ProgressStyleModel",
          "state": {
            "_view_name": "StyleView",
            "_model_name": "ProgressStyleModel",
            "description_width": "initial",
            "_view_module": "@jupyter-widgets/base",
            "_model_module_version": "1.5.0",
            "_view_count": null,
            "_view_module_version": "1.2.0",
            "bar_color": null,
            "_model_module": "@jupyter-widgets/controls"
          }
        },
        "3023374a7f4b4ae2b118d9c261d82a11": {
          "model_module": "@jupyter-widgets/base",
          "model_name": "LayoutModel",
          "state": {
            "_view_name": "LayoutView",
            "grid_template_rows": null,
            "right": null,
            "justify_content": null,
            "_view_module": "@jupyter-widgets/base",
            "overflow": null,
            "_model_module_version": "1.2.0",
            "_view_count": null,
            "flex_flow": null,
            "width": null,
            "min_width": null,
            "border": null,
            "align_items": null,
            "bottom": null,
            "_model_module": "@jupyter-widgets/base",
            "top": null,
            "grid_column": null,
            "overflow_y": null,
            "overflow_x": null,
            "grid_auto_flow": null,
            "grid_area": null,
            "grid_template_columns": null,
            "flex": null,
            "_model_name": "LayoutModel",
            "justify_items": null,
            "grid_row": null,
            "max_height": null,
            "align_content": null,
            "visibility": null,
            "align_self": null,
            "height": null,
            "min_height": null,
            "padding": null,
            "grid_auto_rows": null,
            "grid_gap": null,
            "max_width": null,
            "order": null,
            "_view_module_version": "1.2.0",
            "grid_template_areas": null,
            "object_position": null,
            "object_fit": null,
            "grid_auto_columns": null,
            "margin": null,
            "display": null,
            "left": null
          }
        },
        "f637708d1f4947a5a2e739641c495893": {
          "model_module": "@jupyter-widgets/controls",
          "model_name": "DescriptionStyleModel",
          "state": {
            "_view_name": "StyleView",
            "_model_name": "DescriptionStyleModel",
            "description_width": "",
            "_view_module": "@jupyter-widgets/base",
            "_model_module_version": "1.5.0",
            "_view_count": null,
            "_view_module_version": "1.2.0",
            "_model_module": "@jupyter-widgets/controls"
          }
        },
        "d37af008ec6644a5b067e147c2a755ed": {
          "model_module": "@jupyter-widgets/base",
          "model_name": "LayoutModel",
          "state": {
            "_view_name": "LayoutView",
            "grid_template_rows": null,
            "right": null,
            "justify_content": null,
            "_view_module": "@jupyter-widgets/base",
            "overflow": null,
            "_model_module_version": "1.2.0",
            "_view_count": null,
            "flex_flow": null,
            "width": null,
            "min_width": null,
            "border": null,
            "align_items": null,
            "bottom": null,
            "_model_module": "@jupyter-widgets/base",
            "top": null,
            "grid_column": null,
            "overflow_y": null,
            "overflow_x": null,
            "grid_auto_flow": null,
            "grid_area": null,
            "grid_template_columns": null,
            "flex": null,
            "_model_name": "LayoutModel",
            "justify_items": null,
            "grid_row": null,
            "max_height": null,
            "align_content": null,
            "visibility": null,
            "align_self": null,
            "height": null,
            "min_height": null,
            "padding": null,
            "grid_auto_rows": null,
            "grid_gap": null,
            "max_width": null,
            "order": null,
            "_view_module_version": "1.2.0",
            "grid_template_areas": null,
            "object_position": null,
            "object_fit": null,
            "grid_auto_columns": null,
            "margin": null,
            "display": null,
            "left": null
          }
        },
        "407f133453554c20aa00212663014a89": {
          "model_module": "@jupyter-widgets/controls",
          "model_name": "HBoxModel",
          "state": {
            "_view_name": "HBoxView",
            "_dom_classes": [],
            "_model_name": "HBoxModel",
            "_view_module": "@jupyter-widgets/controls",
            "_model_module_version": "1.5.0",
            "_view_count": null,
            "_view_module_version": "1.5.0",
            "box_style": "",
            "layout": "IPY_MODEL_9d98686a51714aaca0389416cbc895a9",
            "_model_module": "@jupyter-widgets/controls",
            "children": [
              "IPY_MODEL_fa6355d442854b5db9605c375d7054bb",
              "IPY_MODEL_36d4cf0be3894dc38365e4552e76c152"
            ]
          }
        },
        "9d98686a51714aaca0389416cbc895a9": {
          "model_module": "@jupyter-widgets/base",
          "model_name": "LayoutModel",
          "state": {
            "_view_name": "LayoutView",
            "grid_template_rows": null,
            "right": null,
            "justify_content": null,
            "_view_module": "@jupyter-widgets/base",
            "overflow": null,
            "_model_module_version": "1.2.0",
            "_view_count": null,
            "flex_flow": null,
            "width": null,
            "min_width": null,
            "border": null,
            "align_items": null,
            "bottom": null,
            "_model_module": "@jupyter-widgets/base",
            "top": null,
            "grid_column": null,
            "overflow_y": null,
            "overflow_x": null,
            "grid_auto_flow": null,
            "grid_area": null,
            "grid_template_columns": null,
            "flex": null,
            "_model_name": "LayoutModel",
            "justify_items": null,
            "grid_row": null,
            "max_height": null,
            "align_content": null,
            "visibility": null,
            "align_self": null,
            "height": null,
            "min_height": null,
            "padding": null,
            "grid_auto_rows": null,
            "grid_gap": null,
            "max_width": null,
            "order": null,
            "_view_module_version": "1.2.0",
            "grid_template_areas": null,
            "object_position": null,
            "object_fit": null,
            "grid_auto_columns": null,
            "margin": null,
            "display": null,
            "left": null
          }
        },
        "fa6355d442854b5db9605c375d7054bb": {
          "model_module": "@jupyter-widgets/controls",
          "model_name": "FloatProgressModel",
          "state": {
            "_view_name": "ProgressView",
            "style": "IPY_MODEL_ade90abab67f49e99e6604aeb0c67c65",
            "_dom_classes": [],
            "description": "Extraction completed...: 100%",
            "_model_name": "FloatProgressModel",
            "bar_style": "success",
            "max": 1,
            "_view_module": "@jupyter-widgets/controls",
            "_model_module_version": "1.5.0",
            "value": 1,
            "_view_count": null,
            "_view_module_version": "1.5.0",
            "orientation": "horizontal",
            "min": 0,
            "description_tooltip": null,
            "_model_module": "@jupyter-widgets/controls",
            "layout": "IPY_MODEL_69dddc7842814e84ada2760ec0488b52"
          }
        },
        "36d4cf0be3894dc38365e4552e76c152": {
          "model_module": "@jupyter-widgets/controls",
          "model_name": "HTMLModel",
          "state": {
            "_view_name": "HTMLView",
            "style": "IPY_MODEL_b9ccd98482544b89841bc04316c5a5c8",
            "_dom_classes": [],
            "description": "",
            "_model_name": "HTMLModel",
            "placeholder": "​",
            "_view_module": "@jupyter-widgets/controls",
            "_model_module_version": "1.5.0",
            "value": " 2/2 [00:02&lt;00:00,  1.30s/ file]",
            "_view_count": null,
            "_view_module_version": "1.5.0",
            "description_tooltip": null,
            "_model_module": "@jupyter-widgets/controls",
            "layout": "IPY_MODEL_2b4ca16faab946aea7cddd2a5391539b"
          }
        },
        "ade90abab67f49e99e6604aeb0c67c65": {
          "model_module": "@jupyter-widgets/controls",
          "model_name": "ProgressStyleModel",
          "state": {
            "_view_name": "StyleView",
            "_model_name": "ProgressStyleModel",
            "description_width": "initial",
            "_view_module": "@jupyter-widgets/base",
            "_model_module_version": "1.5.0",
            "_view_count": null,
            "_view_module_version": "1.2.0",
            "bar_color": null,
            "_model_module": "@jupyter-widgets/controls"
          }
        },
        "69dddc7842814e84ada2760ec0488b52": {
          "model_module": "@jupyter-widgets/base",
          "model_name": "LayoutModel",
          "state": {
            "_view_name": "LayoutView",
            "grid_template_rows": null,
            "right": null,
            "justify_content": null,
            "_view_module": "@jupyter-widgets/base",
            "overflow": null,
            "_model_module_version": "1.2.0",
            "_view_count": null,
            "flex_flow": null,
            "width": null,
            "min_width": null,
            "border": null,
            "align_items": null,
            "bottom": null,
            "_model_module": "@jupyter-widgets/base",
            "top": null,
            "grid_column": null,
            "overflow_y": null,
            "overflow_x": null,
            "grid_auto_flow": null,
            "grid_area": null,
            "grid_template_columns": null,
            "flex": null,
            "_model_name": "LayoutModel",
            "justify_items": null,
            "grid_row": null,
            "max_height": null,
            "align_content": null,
            "visibility": null,
            "align_self": null,
            "height": null,
            "min_height": null,
            "padding": null,
            "grid_auto_rows": null,
            "grid_gap": null,
            "max_width": null,
            "order": null,
            "_view_module_version": "1.2.0",
            "grid_template_areas": null,
            "object_position": null,
            "object_fit": null,
            "grid_auto_columns": null,
            "margin": null,
            "display": null,
            "left": null
          }
        },
        "b9ccd98482544b89841bc04316c5a5c8": {
          "model_module": "@jupyter-widgets/controls",
          "model_name": "DescriptionStyleModel",
          "state": {
            "_view_name": "StyleView",
            "_model_name": "DescriptionStyleModel",
            "description_width": "",
            "_view_module": "@jupyter-widgets/base",
            "_model_module_version": "1.5.0",
            "_view_count": null,
            "_view_module_version": "1.2.0",
            "_model_module": "@jupyter-widgets/controls"
          }
        },
        "2b4ca16faab946aea7cddd2a5391539b": {
          "model_module": "@jupyter-widgets/base",
          "model_name": "LayoutModel",
          "state": {
            "_view_name": "LayoutView",
            "grid_template_rows": null,
            "right": null,
            "justify_content": null,
            "_view_module": "@jupyter-widgets/base",
            "overflow": null,
            "_model_module_version": "1.2.0",
            "_view_count": null,
            "flex_flow": null,
            "width": null,
            "min_width": null,
            "border": null,
            "align_items": null,
            "bottom": null,
            "_model_module": "@jupyter-widgets/base",
            "top": null,
            "grid_column": null,
            "overflow_y": null,
            "overflow_x": null,
            "grid_auto_flow": null,
            "grid_area": null,
            "grid_template_columns": null,
            "flex": null,
            "_model_name": "LayoutModel",
            "justify_items": null,
            "grid_row": null,
            "max_height": null,
            "align_content": null,
            "visibility": null,
            "align_self": null,
            "height": null,
            "min_height": null,
            "padding": null,
            "grid_auto_rows": null,
            "grid_gap": null,
            "max_width": null,
            "order": null,
            "_view_module_version": "1.2.0",
            "grid_template_areas": null,
            "object_position": null,
            "object_fit": null,
            "grid_auto_columns": null,
            "margin": null,
            "display": null,
            "left": null
          }
        },
        "e03a24b3279e491fbff81302266d2cd2": {
          "model_module": "@jupyter-widgets/controls",
          "model_name": "HBoxModel",
          "state": {
            "_view_name": "HBoxView",
            "_dom_classes": [],
            "_model_name": "HBoxModel",
            "_view_module": "@jupyter-widgets/controls",
            "_model_module_version": "1.5.0",
            "_view_count": null,
            "_view_module_version": "1.5.0",
            "box_style": "",
            "layout": "IPY_MODEL_b33d0966cb1a430d9e4a29811e021294",
            "_model_module": "@jupyter-widgets/controls",
            "children": [
              "IPY_MODEL_a62f70c074ad4a02a57c3b8c58a01a59",
              "IPY_MODEL_6e92b800b99f4c56bdc2724e3b6ee081"
            ]
          }
        },
        "b33d0966cb1a430d9e4a29811e021294": {
          "model_module": "@jupyter-widgets/base",
          "model_name": "LayoutModel",
          "state": {
            "_view_name": "LayoutView",
            "grid_template_rows": null,
            "right": null,
            "justify_content": null,
            "_view_module": "@jupyter-widgets/base",
            "overflow": null,
            "_model_module_version": "1.2.0",
            "_view_count": null,
            "flex_flow": null,
            "width": null,
            "min_width": null,
            "border": null,
            "align_items": null,
            "bottom": null,
            "_model_module": "@jupyter-widgets/base",
            "top": null,
            "grid_column": null,
            "overflow_y": null,
            "overflow_x": null,
            "grid_auto_flow": null,
            "grid_area": null,
            "grid_template_columns": null,
            "flex": null,
            "_model_name": "LayoutModel",
            "justify_items": null,
            "grid_row": null,
            "max_height": null,
            "align_content": null,
            "visibility": null,
            "align_self": null,
            "height": null,
            "min_height": null,
            "padding": null,
            "grid_auto_rows": null,
            "grid_gap": null,
            "max_width": null,
            "order": null,
            "_view_module_version": "1.2.0",
            "grid_template_areas": null,
            "object_position": null,
            "object_fit": null,
            "grid_auto_columns": null,
            "margin": null,
            "display": null,
            "left": null
          }
        },
        "a62f70c074ad4a02a57c3b8c58a01a59": {
          "model_module": "@jupyter-widgets/controls",
          "model_name": "FloatProgressModel",
          "state": {
            "_view_name": "ProgressView",
            "style": "IPY_MODEL_1e9b396c1a014a5d911a7f62eb6f6a74",
            "_dom_classes": [],
            "description": "",
            "_model_name": "FloatProgressModel",
            "bar_style": "info",
            "max": 1,
            "_view_module": "@jupyter-widgets/controls",
            "_model_module_version": "1.5.0",
            "value": 1,
            "_view_count": null,
            "_view_module_version": "1.5.0",
            "orientation": "horizontal",
            "min": 0,
            "description_tooltip": null,
            "_model_module": "@jupyter-widgets/controls",
            "layout": "IPY_MODEL_5401fdff4b104910a9d21a07ee782c29"
          }
        },
        "6e92b800b99f4c56bdc2724e3b6ee081": {
          "model_module": "@jupyter-widgets/controls",
          "model_name": "HTMLModel",
          "state": {
            "_view_name": "HTMLView",
            "style": "IPY_MODEL_03f30f2ef5844438ac7b7dd49f6afd8b",
            "_dom_classes": [],
            "description": "",
            "_model_name": "HTMLModel",
            "placeholder": "​",
            "_view_module": "@jupyter-widgets/controls",
            "_model_module_version": "1.5.0",
            "value": " 24/0 [00:00&lt;00:00, 309.51 examples/s]",
            "_view_count": null,
            "_view_module_version": "1.5.0",
            "description_tooltip": null,
            "_model_module": "@jupyter-widgets/controls",
            "layout": "IPY_MODEL_2da5ca143da04b6cbc45b517538fd8ca"
          }
        },
        "1e9b396c1a014a5d911a7f62eb6f6a74": {
          "model_module": "@jupyter-widgets/controls",
          "model_name": "ProgressStyleModel",
          "state": {
            "_view_name": "StyleView",
            "_model_name": "ProgressStyleModel",
            "description_width": "initial",
            "_view_module": "@jupyter-widgets/base",
            "_model_module_version": "1.5.0",
            "_view_count": null,
            "_view_module_version": "1.2.0",
            "bar_color": null,
            "_model_module": "@jupyter-widgets/controls"
          }
        },
        "5401fdff4b104910a9d21a07ee782c29": {
          "model_module": "@jupyter-widgets/base",
          "model_name": "LayoutModel",
          "state": {
            "_view_name": "LayoutView",
            "grid_template_rows": null,
            "right": null,
            "justify_content": null,
            "_view_module": "@jupyter-widgets/base",
            "overflow": null,
            "_model_module_version": "1.2.0",
            "_view_count": null,
            "flex_flow": null,
            "width": null,
            "min_width": null,
            "border": null,
            "align_items": null,
            "bottom": null,
            "_model_module": "@jupyter-widgets/base",
            "top": null,
            "grid_column": null,
            "overflow_y": null,
            "overflow_x": null,
            "grid_auto_flow": null,
            "grid_area": null,
            "grid_template_columns": null,
            "flex": null,
            "_model_name": "LayoutModel",
            "justify_items": null,
            "grid_row": null,
            "max_height": null,
            "align_content": null,
            "visibility": null,
            "align_self": null,
            "height": null,
            "min_height": null,
            "padding": null,
            "grid_auto_rows": null,
            "grid_gap": null,
            "max_width": null,
            "order": null,
            "_view_module_version": "1.2.0",
            "grid_template_areas": null,
            "object_position": null,
            "object_fit": null,
            "grid_auto_columns": null,
            "margin": null,
            "display": null,
            "left": null
          }
        },
        "03f30f2ef5844438ac7b7dd49f6afd8b": {
          "model_module": "@jupyter-widgets/controls",
          "model_name": "DescriptionStyleModel",
          "state": {
            "_view_name": "StyleView",
            "_model_name": "DescriptionStyleModel",
            "description_width": "",
            "_view_module": "@jupyter-widgets/base",
            "_model_module_version": "1.5.0",
            "_view_count": null,
            "_view_module_version": "1.2.0",
            "_model_module": "@jupyter-widgets/controls"
          }
        },
        "2da5ca143da04b6cbc45b517538fd8ca": {
          "model_module": "@jupyter-widgets/base",
          "model_name": "LayoutModel",
          "state": {
            "_view_name": "LayoutView",
            "grid_template_rows": null,
            "right": null,
            "justify_content": null,
            "_view_module": "@jupyter-widgets/base",
            "overflow": null,
            "_model_module_version": "1.2.0",
            "_view_count": null,
            "flex_flow": null,
            "width": null,
            "min_width": null,
            "border": null,
            "align_items": null,
            "bottom": null,
            "_model_module": "@jupyter-widgets/base",
            "top": null,
            "grid_column": null,
            "overflow_y": null,
            "overflow_x": null,
            "grid_auto_flow": null,
            "grid_area": null,
            "grid_template_columns": null,
            "flex": null,
            "_model_name": "LayoutModel",
            "justify_items": null,
            "grid_row": null,
            "max_height": null,
            "align_content": null,
            "visibility": null,
            "align_self": null,
            "height": null,
            "min_height": null,
            "padding": null,
            "grid_auto_rows": null,
            "grid_gap": null,
            "max_width": null,
            "order": null,
            "_view_module_version": "1.2.0",
            "grid_template_areas": null,
            "object_position": null,
            "object_fit": null,
            "grid_auto_columns": null,
            "margin": null,
            "display": null,
            "left": null
          }
        },
        "745b6117b606479cbbd244cbb17589ee": {
          "model_module": "@jupyter-widgets/controls",
          "model_name": "HBoxModel",
          "state": {
            "_view_name": "HBoxView",
            "_dom_classes": [],
            "_model_name": "HBoxModel",
            "_view_module": "@jupyter-widgets/controls",
            "_model_module_version": "1.5.0",
            "_view_count": null,
            "_view_module_version": "1.5.0",
            "box_style": "",
            "layout": "IPY_MODEL_b68e9093770242858e46c088275a8b25",
            "_model_module": "@jupyter-widgets/controls",
            "children": [
              "IPY_MODEL_f8b323d8e0c24afbacd3a3ce71df5feb",
              "IPY_MODEL_e0294f1f9e544871a4c1a0d486552f0b"
            ]
          }
        },
        "b68e9093770242858e46c088275a8b25": {
          "model_module": "@jupyter-widgets/base",
          "model_name": "LayoutModel",
          "state": {
            "_view_name": "LayoutView",
            "grid_template_rows": null,
            "right": null,
            "justify_content": null,
            "_view_module": "@jupyter-widgets/base",
            "overflow": null,
            "_model_module_version": "1.2.0",
            "_view_count": null,
            "flex_flow": null,
            "width": null,
            "min_width": null,
            "border": null,
            "align_items": null,
            "bottom": null,
            "_model_module": "@jupyter-widgets/base",
            "top": null,
            "grid_column": null,
            "overflow_y": null,
            "overflow_x": null,
            "grid_auto_flow": null,
            "grid_area": null,
            "grid_template_columns": null,
            "flex": null,
            "_model_name": "LayoutModel",
            "justify_items": null,
            "grid_row": null,
            "max_height": null,
            "align_content": null,
            "visibility": null,
            "align_self": null,
            "height": null,
            "min_height": null,
            "padding": null,
            "grid_auto_rows": null,
            "grid_gap": null,
            "max_width": null,
            "order": null,
            "_view_module_version": "1.2.0",
            "grid_template_areas": null,
            "object_position": null,
            "object_fit": null,
            "grid_auto_columns": null,
            "margin": null,
            "display": null,
            "left": null
          }
        },
        "f8b323d8e0c24afbacd3a3ce71df5feb": {
          "model_module": "@jupyter-widgets/controls",
          "model_name": "FloatProgressModel",
          "state": {
            "_view_name": "ProgressView",
            "style": "IPY_MODEL_747975f41d84458097265970da48600f",
            "_dom_classes": [],
            "description": "  0%",
            "_model_name": "FloatProgressModel",
            "bar_style": "danger",
            "max": 24,
            "_view_module": "@jupyter-widgets/controls",
            "_model_module_version": "1.5.0",
            "value": 0,
            "_view_count": null,
            "_view_module_version": "1.5.0",
            "orientation": "horizontal",
            "min": 0,
            "description_tooltip": null,
            "_model_module": "@jupyter-widgets/controls",
            "layout": "IPY_MODEL_77a8dd280c6d4edeb0d817864e212477"
          }
        },
        "e0294f1f9e544871a4c1a0d486552f0b": {
          "model_module": "@jupyter-widgets/controls",
          "model_name": "HTMLModel",
          "state": {
            "_view_name": "HTMLView",
            "style": "IPY_MODEL_646a19654ae446a48de3238bacf30c52",
            "_dom_classes": [],
            "description": "",
            "_model_name": "HTMLModel",
            "placeholder": "​",
            "_view_module": "@jupyter-widgets/controls",
            "_model_module_version": "1.5.0",
            "value": " 0/24 [00:00&lt;?, ? examples/s]",
            "_view_count": null,
            "_view_module_version": "1.5.0",
            "description_tooltip": null,
            "_model_module": "@jupyter-widgets/controls",
            "layout": "IPY_MODEL_e6c87a4bba5f4ed6be9321b5d35eed24"
          }
        },
        "747975f41d84458097265970da48600f": {
          "model_module": "@jupyter-widgets/controls",
          "model_name": "ProgressStyleModel",
          "state": {
            "_view_name": "StyleView",
            "_model_name": "ProgressStyleModel",
            "description_width": "initial",
            "_view_module": "@jupyter-widgets/base",
            "_model_module_version": "1.5.0",
            "_view_count": null,
            "_view_module_version": "1.2.0",
            "bar_color": null,
            "_model_module": "@jupyter-widgets/controls"
          }
        },
        "77a8dd280c6d4edeb0d817864e212477": {
          "model_module": "@jupyter-widgets/base",
          "model_name": "LayoutModel",
          "state": {
            "_view_name": "LayoutView",
            "grid_template_rows": null,
            "right": null,
            "justify_content": null,
            "_view_module": "@jupyter-widgets/base",
            "overflow": null,
            "_model_module_version": "1.2.0",
            "_view_count": null,
            "flex_flow": null,
            "width": null,
            "min_width": null,
            "border": null,
            "align_items": null,
            "bottom": null,
            "_model_module": "@jupyter-widgets/base",
            "top": null,
            "grid_column": null,
            "overflow_y": null,
            "overflow_x": null,
            "grid_auto_flow": null,
            "grid_area": null,
            "grid_template_columns": null,
            "flex": null,
            "_model_name": "LayoutModel",
            "justify_items": null,
            "grid_row": null,
            "max_height": null,
            "align_content": null,
            "visibility": null,
            "align_self": null,
            "height": null,
            "min_height": null,
            "padding": null,
            "grid_auto_rows": null,
            "grid_gap": null,
            "max_width": null,
            "order": null,
            "_view_module_version": "1.2.0",
            "grid_template_areas": null,
            "object_position": null,
            "object_fit": null,
            "grid_auto_columns": null,
            "margin": null,
            "display": null,
            "left": null
          }
        },
        "646a19654ae446a48de3238bacf30c52": {
          "model_module": "@jupyter-widgets/controls",
          "model_name": "DescriptionStyleModel",
          "state": {
            "_view_name": "StyleView",
            "_model_name": "DescriptionStyleModel",
            "description_width": "",
            "_view_module": "@jupyter-widgets/base",
            "_model_module_version": "1.5.0",
            "_view_count": null,
            "_view_module_version": "1.2.0",
            "_model_module": "@jupyter-widgets/controls"
          }
        },
        "e6c87a4bba5f4ed6be9321b5d35eed24": {
          "model_module": "@jupyter-widgets/base",
          "model_name": "LayoutModel",
          "state": {
            "_view_name": "LayoutView",
            "grid_template_rows": null,
            "right": null,
            "justify_content": null,
            "_view_module": "@jupyter-widgets/base",
            "overflow": null,
            "_model_module_version": "1.2.0",
            "_view_count": null,
            "flex_flow": null,
            "width": null,
            "min_width": null,
            "border": null,
            "align_items": null,
            "bottom": null,
            "_model_module": "@jupyter-widgets/base",
            "top": null,
            "grid_column": null,
            "overflow_y": null,
            "overflow_x": null,
            "grid_auto_flow": null,
            "grid_area": null,
            "grid_template_columns": null,
            "flex": null,
            "_model_name": "LayoutModel",
            "justify_items": null,
            "grid_row": null,
            "max_height": null,
            "align_content": null,
            "visibility": null,
            "align_self": null,
            "height": null,
            "min_height": null,
            "padding": null,
            "grid_auto_rows": null,
            "grid_gap": null,
            "max_width": null,
            "order": null,
            "_view_module_version": "1.2.0",
            "grid_template_areas": null,
            "object_position": null,
            "object_fit": null,
            "grid_auto_columns": null,
            "margin": null,
            "display": null,
            "left": null
          }
        },
        "273b62e92aa84830b243cfb18bcf9adf": {
          "model_module": "@jupyter-widgets/controls",
          "model_name": "HBoxModel",
          "state": {
            "_view_name": "HBoxView",
            "_dom_classes": [],
            "_model_name": "HBoxModel",
            "_view_module": "@jupyter-widgets/controls",
            "_model_module_version": "1.5.0",
            "_view_count": null,
            "_view_module_version": "1.5.0",
            "box_style": "",
            "layout": "IPY_MODEL_5330375a0fe04a5589d10d89abb80a2e",
            "_model_module": "@jupyter-widgets/controls",
            "children": [
              "IPY_MODEL_2119c78ee6274dc0a7c42c4f32d19c11",
              "IPY_MODEL_ef9161ea096d45209ac8a34a65ed6feb"
            ]
          }
        },
        "5330375a0fe04a5589d10d89abb80a2e": {
          "model_module": "@jupyter-widgets/base",
          "model_name": "LayoutModel",
          "state": {
            "_view_name": "LayoutView",
            "grid_template_rows": null,
            "right": null,
            "justify_content": null,
            "_view_module": "@jupyter-widgets/base",
            "overflow": null,
            "_model_module_version": "1.2.0",
            "_view_count": null,
            "flex_flow": null,
            "width": null,
            "min_width": null,
            "border": null,
            "align_items": null,
            "bottom": null,
            "_model_module": "@jupyter-widgets/base",
            "top": null,
            "grid_column": null,
            "overflow_y": null,
            "overflow_x": null,
            "grid_auto_flow": null,
            "grid_area": null,
            "grid_template_columns": null,
            "flex": null,
            "_model_name": "LayoutModel",
            "justify_items": null,
            "grid_row": null,
            "max_height": null,
            "align_content": null,
            "visibility": null,
            "align_self": null,
            "height": null,
            "min_height": null,
            "padding": null,
            "grid_auto_rows": null,
            "grid_gap": null,
            "max_width": null,
            "order": null,
            "_view_module_version": "1.2.0",
            "grid_template_areas": null,
            "object_position": null,
            "object_fit": null,
            "grid_auto_columns": null,
            "margin": null,
            "display": null,
            "left": null
          }
        },
        "2119c78ee6274dc0a7c42c4f32d19c11": {
          "model_module": "@jupyter-widgets/controls",
          "model_name": "FloatProgressModel",
          "state": {
            "_view_name": "ProgressView",
            "style": "IPY_MODEL_ba8a6d8b84844b7bae504225e1267a98",
            "_dom_classes": [],
            "description": "",
            "_model_name": "FloatProgressModel",
            "bar_style": "info",
            "max": 1,
            "_view_module": "@jupyter-widgets/controls",
            "_model_module_version": "1.5.0",
            "value": 1,
            "_view_count": null,
            "_view_module_version": "1.5.0",
            "orientation": "horizontal",
            "min": 0,
            "description_tooltip": null,
            "_model_module": "@jupyter-widgets/controls",
            "layout": "IPY_MODEL_9559a51153104fec87488d477a071da6"
          }
        },
        "ef9161ea096d45209ac8a34a65ed6feb": {
          "model_module": "@jupyter-widgets/controls",
          "model_name": "HTMLModel",
          "state": {
            "_view_name": "HTMLView",
            "style": "IPY_MODEL_1a80f939bdf14daa90a7393123cd80f7",
            "_dom_classes": [],
            "description": "",
            "_model_name": "HTMLModel",
            "placeholder": "​",
            "_view_module": "@jupyter-widgets/controls",
            "_model_module_version": "1.5.0",
            "value": " 12/0 [00:00&lt;00:00, 159.16 examples/s]",
            "_view_count": null,
            "_view_module_version": "1.5.0",
            "description_tooltip": null,
            "_model_module": "@jupyter-widgets/controls",
            "layout": "IPY_MODEL_2af04926a1ed449f8b699c724292df01"
          }
        },
        "ba8a6d8b84844b7bae504225e1267a98": {
          "model_module": "@jupyter-widgets/controls",
          "model_name": "ProgressStyleModel",
          "state": {
            "_view_name": "StyleView",
            "_model_name": "ProgressStyleModel",
            "description_width": "initial",
            "_view_module": "@jupyter-widgets/base",
            "_model_module_version": "1.5.0",
            "_view_count": null,
            "_view_module_version": "1.2.0",
            "bar_color": null,
            "_model_module": "@jupyter-widgets/controls"
          }
        },
        "9559a51153104fec87488d477a071da6": {
          "model_module": "@jupyter-widgets/base",
          "model_name": "LayoutModel",
          "state": {
            "_view_name": "LayoutView",
            "grid_template_rows": null,
            "right": null,
            "justify_content": null,
            "_view_module": "@jupyter-widgets/base",
            "overflow": null,
            "_model_module_version": "1.2.0",
            "_view_count": null,
            "flex_flow": null,
            "width": null,
            "min_width": null,
            "border": null,
            "align_items": null,
            "bottom": null,
            "_model_module": "@jupyter-widgets/base",
            "top": null,
            "grid_column": null,
            "overflow_y": null,
            "overflow_x": null,
            "grid_auto_flow": null,
            "grid_area": null,
            "grid_template_columns": null,
            "flex": null,
            "_model_name": "LayoutModel",
            "justify_items": null,
            "grid_row": null,
            "max_height": null,
            "align_content": null,
            "visibility": null,
            "align_self": null,
            "height": null,
            "min_height": null,
            "padding": null,
            "grid_auto_rows": null,
            "grid_gap": null,
            "max_width": null,
            "order": null,
            "_view_module_version": "1.2.0",
            "grid_template_areas": null,
            "object_position": null,
            "object_fit": null,
            "grid_auto_columns": null,
            "margin": null,
            "display": null,
            "left": null
          }
        },
        "1a80f939bdf14daa90a7393123cd80f7": {
          "model_module": "@jupyter-widgets/controls",
          "model_name": "DescriptionStyleModel",
          "state": {
            "_view_name": "StyleView",
            "_model_name": "DescriptionStyleModel",
            "description_width": "",
            "_view_module": "@jupyter-widgets/base",
            "_model_module_version": "1.5.0",
            "_view_count": null,
            "_view_module_version": "1.2.0",
            "_model_module": "@jupyter-widgets/controls"
          }
        },
        "2af04926a1ed449f8b699c724292df01": {
          "model_module": "@jupyter-widgets/base",
          "model_name": "LayoutModel",
          "state": {
            "_view_name": "LayoutView",
            "grid_template_rows": null,
            "right": null,
            "justify_content": null,
            "_view_module": "@jupyter-widgets/base",
            "overflow": null,
            "_model_module_version": "1.2.0",
            "_view_count": null,
            "flex_flow": null,
            "width": null,
            "min_width": null,
            "border": null,
            "align_items": null,
            "bottom": null,
            "_model_module": "@jupyter-widgets/base",
            "top": null,
            "grid_column": null,
            "overflow_y": null,
            "overflow_x": null,
            "grid_auto_flow": null,
            "grid_area": null,
            "grid_template_columns": null,
            "flex": null,
            "_model_name": "LayoutModel",
            "justify_items": null,
            "grid_row": null,
            "max_height": null,
            "align_content": null,
            "visibility": null,
            "align_self": null,
            "height": null,
            "min_height": null,
            "padding": null,
            "grid_auto_rows": null,
            "grid_gap": null,
            "max_width": null,
            "order": null,
            "_view_module_version": "1.2.0",
            "grid_template_areas": null,
            "object_position": null,
            "object_fit": null,
            "grid_auto_columns": null,
            "margin": null,
            "display": null,
            "left": null
          }
        },
        "83d99fdd736e4b47b1385c04a3211899": {
          "model_module": "@jupyter-widgets/controls",
          "model_name": "HBoxModel",
          "state": {
            "_view_name": "HBoxView",
            "_dom_classes": [],
            "_model_name": "HBoxModel",
            "_view_module": "@jupyter-widgets/controls",
            "_model_module_version": "1.5.0",
            "_view_count": null,
            "_view_module_version": "1.5.0",
            "box_style": "",
            "layout": "IPY_MODEL_6ff0364e7b7445868f2a18fc9f96ebf7",
            "_model_module": "@jupyter-widgets/controls",
            "children": [
              "IPY_MODEL_917d67ffab814e95aa1551b432025feb",
              "IPY_MODEL_19cbeb7cdba040f7a229499fde502cbd"
            ]
          }
        },
        "6ff0364e7b7445868f2a18fc9f96ebf7": {
          "model_module": "@jupyter-widgets/base",
          "model_name": "LayoutModel",
          "state": {
            "_view_name": "LayoutView",
            "grid_template_rows": null,
            "right": null,
            "justify_content": null,
            "_view_module": "@jupyter-widgets/base",
            "overflow": null,
            "_model_module_version": "1.2.0",
            "_view_count": null,
            "flex_flow": null,
            "width": null,
            "min_width": null,
            "border": null,
            "align_items": null,
            "bottom": null,
            "_model_module": "@jupyter-widgets/base",
            "top": null,
            "grid_column": null,
            "overflow_y": null,
            "overflow_x": null,
            "grid_auto_flow": null,
            "grid_area": null,
            "grid_template_columns": null,
            "flex": null,
            "_model_name": "LayoutModel",
            "justify_items": null,
            "grid_row": null,
            "max_height": null,
            "align_content": null,
            "visibility": null,
            "align_self": null,
            "height": null,
            "min_height": null,
            "padding": null,
            "grid_auto_rows": null,
            "grid_gap": null,
            "max_width": null,
            "order": null,
            "_view_module_version": "1.2.0",
            "grid_template_areas": null,
            "object_position": null,
            "object_fit": null,
            "grid_auto_columns": null,
            "margin": null,
            "display": null,
            "left": null
          }
        },
        "917d67ffab814e95aa1551b432025feb": {
          "model_module": "@jupyter-widgets/controls",
          "model_name": "FloatProgressModel",
          "state": {
            "_view_name": "ProgressView",
            "style": "IPY_MODEL_5644ccd447734373b63a73a5eb5d002f",
            "_dom_classes": [],
            "description": "  0%",
            "_model_name": "FloatProgressModel",
            "bar_style": "danger",
            "max": 12,
            "_view_module": "@jupyter-widgets/controls",
            "_model_module_version": "1.5.0",
            "value": 0,
            "_view_count": null,
            "_view_module_version": "1.5.0",
            "orientation": "horizontal",
            "min": 0,
            "description_tooltip": null,
            "_model_module": "@jupyter-widgets/controls",
            "layout": "IPY_MODEL_e52f696914c047ea814480229c3b4205"
          }
        },
        "19cbeb7cdba040f7a229499fde502cbd": {
          "model_module": "@jupyter-widgets/controls",
          "model_name": "HTMLModel",
          "state": {
            "_view_name": "HTMLView",
            "style": "IPY_MODEL_11036bb979d64950a41b1c28e6b2dd23",
            "_dom_classes": [],
            "description": "",
            "_model_name": "HTMLModel",
            "placeholder": "​",
            "_view_module": "@jupyter-widgets/controls",
            "_model_module_version": "1.5.0",
            "value": " 0/12 [00:00&lt;?, ? examples/s]",
            "_view_count": null,
            "_view_module_version": "1.5.0",
            "description_tooltip": null,
            "_model_module": "@jupyter-widgets/controls",
            "layout": "IPY_MODEL_a661028727204b2d984634b678e21100"
          }
        },
        "5644ccd447734373b63a73a5eb5d002f": {
          "model_module": "@jupyter-widgets/controls",
          "model_name": "ProgressStyleModel",
          "state": {
            "_view_name": "StyleView",
            "_model_name": "ProgressStyleModel",
            "description_width": "initial",
            "_view_module": "@jupyter-widgets/base",
            "_model_module_version": "1.5.0",
            "_view_count": null,
            "_view_module_version": "1.2.0",
            "bar_color": null,
            "_model_module": "@jupyter-widgets/controls"
          }
        },
        "e52f696914c047ea814480229c3b4205": {
          "model_module": "@jupyter-widgets/base",
          "model_name": "LayoutModel",
          "state": {
            "_view_name": "LayoutView",
            "grid_template_rows": null,
            "right": null,
            "justify_content": null,
            "_view_module": "@jupyter-widgets/base",
            "overflow": null,
            "_model_module_version": "1.2.0",
            "_view_count": null,
            "flex_flow": null,
            "width": null,
            "min_width": null,
            "border": null,
            "align_items": null,
            "bottom": null,
            "_model_module": "@jupyter-widgets/base",
            "top": null,
            "grid_column": null,
            "overflow_y": null,
            "overflow_x": null,
            "grid_auto_flow": null,
            "grid_area": null,
            "grid_template_columns": null,
            "flex": null,
            "_model_name": "LayoutModel",
            "justify_items": null,
            "grid_row": null,
            "max_height": null,
            "align_content": null,
            "visibility": null,
            "align_self": null,
            "height": null,
            "min_height": null,
            "padding": null,
            "grid_auto_rows": null,
            "grid_gap": null,
            "max_width": null,
            "order": null,
            "_view_module_version": "1.2.0",
            "grid_template_areas": null,
            "object_position": null,
            "object_fit": null,
            "grid_auto_columns": null,
            "margin": null,
            "display": null,
            "left": null
          }
        },
        "11036bb979d64950a41b1c28e6b2dd23": {
          "model_module": "@jupyter-widgets/controls",
          "model_name": "DescriptionStyleModel",
          "state": {
            "_view_name": "StyleView",
            "_model_name": "DescriptionStyleModel",
            "description_width": "",
            "_view_module": "@jupyter-widgets/base",
            "_model_module_version": "1.5.0",
            "_view_count": null,
            "_view_module_version": "1.2.0",
            "_model_module": "@jupyter-widgets/controls"
          }
        },
        "a661028727204b2d984634b678e21100": {
          "model_module": "@jupyter-widgets/base",
          "model_name": "LayoutModel",
          "state": {
            "_view_name": "LayoutView",
            "grid_template_rows": null,
            "right": null,
            "justify_content": null,
            "_view_module": "@jupyter-widgets/base",
            "overflow": null,
            "_model_module_version": "1.2.0",
            "_view_count": null,
            "flex_flow": null,
            "width": null,
            "min_width": null,
            "border": null,
            "align_items": null,
            "bottom": null,
            "_model_module": "@jupyter-widgets/base",
            "top": null,
            "grid_column": null,
            "overflow_y": null,
            "overflow_x": null,
            "grid_auto_flow": null,
            "grid_area": null,
            "grid_template_columns": null,
            "flex": null,
            "_model_name": "LayoutModel",
            "justify_items": null,
            "grid_row": null,
            "max_height": null,
            "align_content": null,
            "visibility": null,
            "align_self": null,
            "height": null,
            "min_height": null,
            "padding": null,
            "grid_auto_rows": null,
            "grid_gap": null,
            "max_width": null,
            "order": null,
            "_view_module_version": "1.2.0",
            "grid_template_areas": null,
            "object_position": null,
            "object_fit": null,
            "grid_auto_columns": null,
            "margin": null,
            "display": null,
            "left": null
          }
        }
      }
    }
  },
  "cells": [
    {
      "cell_type": "markdown",
      "metadata": {
        "id": "h6ftzn5Ab-Wk"
      },
      "source": [
        "# General Introduction"
      ]
    },
    {
      "cell_type": "markdown",
      "metadata": {
        "id": "UYaK5l4Ja_Xn"
      },
      "source": [
        "Monitoring Changes in Surface Water Using Satellite Image Data : Deliverable 2\n",
        "\n",
        "For section: 2: Data\n",
        "\n",
        "Who: WuLung Hsu, 2020/11/23\n",
        "\n",
        "Features: \n",
        "\n",
        "*   use last deliverable's previous 3 year (2017,2018,2019) taiwan's baoshan Reservoir satellite image, pack as dataset.\n",
        "*   because of practice, 2019 separate to 2 part, label as 2017,2018\n",
        "*   use tensorflow dataset feature to setup and load dataset\n",
        "\n"
      ]
    },
    {
      "cell_type": "markdown",
      "metadata": {
        "id": "iQFNxcV3cD5M"
      },
      "source": [
        "# Setup & Maintain"
      ]
    },
    {
      "cell_type": "code",
      "metadata": {
        "id": "EQtgcnYTcHmu"
      },
      "source": [
        "# all library included in colab default environment"
      ],
      "execution_count": null,
      "outputs": []
    },
    {
      "cell_type": "markdown",
      "metadata": {
        "id": "vr5AcpRK670t"
      },
      "source": [
        "Maintain data may need to use"
      ]
    },
    {
      "cell_type": "code",
      "metadata": {
        "id": "n5CZOsW2lSay"
      },
      "source": [
        "#!rm -rf /root/tensorflow_datasets/downloads"
      ],
      "execution_count": null,
      "outputs": []
    },
    {
      "cell_type": "markdown",
      "metadata": {
        "id": "Qc2jY_XDcP0k"
      },
      "source": [
        "# local prepare dataset and upload to google drive"
      ]
    },
    {
      "cell_type": "markdown",
      "metadata": {
        "id": "QvdD-o5cdeHT"
      },
      "source": [
        "dataset prepare instruction\n",
        "\n",
        "* use previous deliverable program to get the data. check this out:\n",
        " https://github.com/wuulong/SurfaceWaterMonitor-Study/blob/main/Deliverable/satellite_D1.ipynb\n",
        "\n",
        "* directory structure like this, content structure follow the downloaded data. 2017, 2018 is labels. train/test directory for traingin, testing dataset.\n",
        "train\n",
        "  2017\n",
        "    xxxx1/\n",
        "      request.json\n",
        "      response.png\n",
        "    xxxx2/\n",
        "      request.json\n",
        "      response.png\n",
        "    ...\n",
        "  2018\n",
        "    xxxx3/\n",
        "      request.json\n",
        "      response.png\n",
        "    ...\n",
        "test\n",
        "  2017\n",
        "    xxxx1/\n",
        "      request.json\n",
        "      response.png\n",
        "    ...\n",
        "  2018\n",
        "    xxxx1/\n",
        "      request.json\n",
        "      response.png\n",
        "    ...\n",
        "* use tar, gzip to prepare as train.tgz, test.tgz\n",
        "  tar -cvf train.tar train\n",
        "  gzip train.tar\n",
        "  tar -cvf test.tar test\n",
        "  gzip test.tar\n",
        "\n",
        "* upload to google drive to have file ID\n",
        "* this step can skip as it is prepared\n",
        "[train.tgz]( https://drive.google.com/file/d/1rN3dGF5azCk4VYfxkAcV2Ku5EU72RvzR/view?usp=sharing)\n",
        "[test.tgz]( https://drive.google.com/file/d/1gt76NtandDjq0Y08bv0V72aprJp8RL4u/view?usp=sharing)"
      ]
    },
    {
      "cell_type": "markdown",
      "metadata": {
        "id": "TZrEBRN-dH4C"
      },
      "source": [
        "# upload code to colab\n",
        "\n",
        "* download [baoshan.zip](https://drive.google.com/file/d/1EIIB0w1tRkV93UPv9fw6VCEEbJQr9cvV/view?usp=sharing), upload to colab \n",
        "* extract it"
      ]
    },
    {
      "cell_type": "code",
      "metadata": {
        "id": "R3tx4PbxweCR"
      },
      "source": [
        "#!unzip baoshan.zip"
      ],
      "execution_count": null,
      "outputs": []
    },
    {
      "cell_type": "code",
      "metadata": {
        "colab": {
          "base_uri": "https://localhost:8080/"
        },
        "id": "JdQlir520LWh",
        "outputId": "7f461b15-e3dc-47c7-be05-cced8a962929"
      },
      "source": [
        "!ls -al /content"
      ],
      "execution_count": 7,
      "outputs": [
        {
          "output_type": "stream",
          "text": [
            "total 28\n",
            "drwxr-xr-x 1 root root 4096 Nov 23 01:40 .\n",
            "drwxr-xr-x 1 root root 4096 Nov 23 01:38 ..\n",
            "drwxr-xr-x 4 root root 4096 Nov 23 01:07 baoshan\n",
            "-rw-r--r-- 1 root root 5312 Nov 23 01:40 baoshan.zip\n",
            "drwxr-xr-x 1 root root 4096 Nov 13 17:34 .config\n",
            "drwxr-xr-x 1 root root 4096 Nov 13 17:33 sample_data\n"
          ],
          "name": "stdout"
        }
      ]
    },
    {
      "cell_type": "markdown",
      "metadata": {
        "id": "CM0ujYgIxDwA"
      },
      "source": [
        "# load dataset to check"
      ]
    },
    {
      "cell_type": "code",
      "metadata": {
        "colab": {
          "base_uri": "https://localhost:8080/",
          "height": 1000,
          "referenced_widgets": [
            "8a4cc21243f74ee0a718083d7d724ce6",
            "e830f03ea6e84c8fa08bf35f356098d5",
            "7b6f05fee4f14d408b9ff7c9f6a62006",
            "1bd761e816d34557bdcab4688836246f",
            "ab75576e92fc46388706bd8ca5158f75",
            "82e8459c18734e079ad96066b5af3d7a",
            "1001d61ef16540dcb25e772f38e0d4fa",
            "7b7c71d331474c8c830bca4f17248105",
            "b72e02189f254d3fafbd65a7be7755c2",
            "35edad6867a7460a8d29e6559a5f5abb",
            "c839205129f144f69da88007407e218c",
            "f2d373b0e2584531bc29a7fe55616ed8",
            "cd0ebd13cfa34a5e8b4903186482f6e0",
            "3023374a7f4b4ae2b118d9c261d82a11",
            "f637708d1f4947a5a2e739641c495893",
            "d37af008ec6644a5b067e147c2a755ed",
            "407f133453554c20aa00212663014a89",
            "9d98686a51714aaca0389416cbc895a9",
            "fa6355d442854b5db9605c375d7054bb",
            "36d4cf0be3894dc38365e4552e76c152",
            "ade90abab67f49e99e6604aeb0c67c65",
            "69dddc7842814e84ada2760ec0488b52",
            "b9ccd98482544b89841bc04316c5a5c8",
            "2b4ca16faab946aea7cddd2a5391539b",
            "e03a24b3279e491fbff81302266d2cd2",
            "b33d0966cb1a430d9e4a29811e021294",
            "a62f70c074ad4a02a57c3b8c58a01a59",
            "6e92b800b99f4c56bdc2724e3b6ee081",
            "1e9b396c1a014a5d911a7f62eb6f6a74",
            "5401fdff4b104910a9d21a07ee782c29",
            "03f30f2ef5844438ac7b7dd49f6afd8b",
            "2da5ca143da04b6cbc45b517538fd8ca",
            "745b6117b606479cbbd244cbb17589ee",
            "b68e9093770242858e46c088275a8b25",
            "f8b323d8e0c24afbacd3a3ce71df5feb",
            "e0294f1f9e544871a4c1a0d486552f0b",
            "747975f41d84458097265970da48600f",
            "77a8dd280c6d4edeb0d817864e212477",
            "646a19654ae446a48de3238bacf30c52",
            "e6c87a4bba5f4ed6be9321b5d35eed24",
            "273b62e92aa84830b243cfb18bcf9adf",
            "5330375a0fe04a5589d10d89abb80a2e",
            "2119c78ee6274dc0a7c42c4f32d19c11",
            "ef9161ea096d45209ac8a34a65ed6feb",
            "ba8a6d8b84844b7bae504225e1267a98",
            "9559a51153104fec87488d477a071da6",
            "1a80f939bdf14daa90a7393123cd80f7",
            "2af04926a1ed449f8b699c724292df01",
            "83d99fdd736e4b47b1385c04a3211899",
            "6ff0364e7b7445868f2a18fc9f96ebf7",
            "917d67ffab814e95aa1551b432025feb",
            "19cbeb7cdba040f7a229499fde502cbd",
            "5644ccd447734373b63a73a5eb5d002f",
            "e52f696914c047ea814480229c3b4205",
            "11036bb979d64950a41b1c28e6b2dd23",
            "a661028727204b2d984634b678e21100"
          ]
        },
        "id": "UlR_THsPxNdG",
        "outputId": "8cf0720d-86b9-4e8b-da39-1c4159b681e6"
      },
      "source": [
        "import tensorflow_datasets as tfds\n",
        "import tensorflow as tf\n",
        "import baoshan\n",
        "import os\n",
        "ds = tfds.load('baoshan', split='train', shuffle_files=True)\n"
      ],
      "execution_count": 2,
      "outputs": [
        {
          "output_type": "stream",
          "text": [
            "\u001b[1mDownloading and preparing dataset baoshan/2.3.0 (download: Unknown size, generated: Unknown size, total: Unknown size) to /root/tensorflow_datasets/baoshan/2.3.0...\u001b[0m\n"
          ],
          "name": "stdout"
        },
        {
          "output_type": "display_data",
          "data": {
            "application/vnd.jupyter.widget-view+json": {
              "model_id": "8a4cc21243f74ee0a718083d7d724ce6",
              "version_minor": 0,
              "version_major": 2
            },
            "text/plain": [
              "HBox(children=(FloatProgress(value=1.0, bar_style='info', description='Dl Completed...', max=1.0, style=Progre…"
            ]
          },
          "metadata": {
            "tags": []
          }
        },
        {
          "output_type": "display_data",
          "data": {
            "application/vnd.jupyter.widget-view+json": {
              "model_id": "b72e02189f254d3fafbd65a7be7755c2",
              "version_minor": 0,
              "version_major": 2
            },
            "text/plain": [
              "HBox(children=(FloatProgress(value=1.0, bar_style='info', description='Dl Size...', max=1.0, style=ProgressSty…"
            ]
          },
          "metadata": {
            "tags": []
          }
        },
        {
          "output_type": "display_data",
          "data": {
            "application/vnd.jupyter.widget-view+json": {
              "model_id": "407f133453554c20aa00212663014a89",
              "version_minor": 0,
              "version_major": 2
            },
            "text/plain": [
              "HBox(children=(FloatProgress(value=1.0, bar_style='info', description='Extraction completed...', max=1.0, styl…"
            ]
          },
          "metadata": {
            "tags": []
          }
        },
        {
          "output_type": "stream",
          "text": [
            "\n",
            "\n",
            "\n",
            "\n",
            "\n",
            "\n"
          ],
          "name": "stdout"
        },
        {
          "output_type": "display_data",
          "data": {
            "application/vnd.jupyter.widget-view+json": {
              "model_id": "e03a24b3279e491fbff81302266d2cd2",
              "version_minor": 0,
              "version_major": 2
            },
            "text/plain": [
              "HBox(children=(FloatProgress(value=1.0, bar_style='info', max=1.0), HTML(value='')))"
            ]
          },
          "metadata": {
            "tags": []
          }
        },
        {
          "output_type": "stream",
          "text": [
            "label=2018,image=2018/a4af2cf183da6146b9bf2d0b68e2c0a7/response.png,pathname=/root/tensorflow_datasets/downloads/extracted/TAR_GZ.ucexport_download_id_1rN3dGF5azCk4VYfxkAcV2Ku5YIbjpeEcECjD30_OxYMtumT9to3RBAxdEFof_BgNL9s/train/2018/a4af2cf183da6146b9bf2d0b68e2c0a7/response.png\n",
            "label=2018,image=2018/2b3813163bdbb71996fc1dab5c24742c/response.png,pathname=/root/tensorflow_datasets/downloads/extracted/TAR_GZ.ucexport_download_id_1rN3dGF5azCk4VYfxkAcV2Ku5YIbjpeEcECjD30_OxYMtumT9to3RBAxdEFof_BgNL9s/train/2018/2b3813163bdbb71996fc1dab5c24742c/response.png\n",
            "label=2018,image=2018/01b6737e374e18167c2498ce72a67761/response.png,pathname=/root/tensorflow_datasets/downloads/extracted/TAR_GZ.ucexport_download_id_1rN3dGF5azCk4VYfxkAcV2Ku5YIbjpeEcECjD30_OxYMtumT9to3RBAxdEFof_BgNL9s/train/2018/01b6737e374e18167c2498ce72a67761/response.png\n",
            "label=2018,image=2018/53268208f7b2b089cc6c8c51573c9fbc/response.png,pathname=/root/tensorflow_datasets/downloads/extracted/TAR_GZ.ucexport_download_id_1rN3dGF5azCk4VYfxkAcV2Ku5YIbjpeEcECjD30_OxYMtumT9to3RBAxdEFof_BgNL9s/train/2018/53268208f7b2b089cc6c8c51573c9fbc/response.png\n",
            "label=2018,image=2018/0ee817d0daeb89801778d12a542bc5f0/response.png,pathname=/root/tensorflow_datasets/downloads/extracted/TAR_GZ.ucexport_download_id_1rN3dGF5azCk4VYfxkAcV2Ku5YIbjpeEcECjD30_OxYMtumT9to3RBAxdEFof_BgNL9s/train/2018/0ee817d0daeb89801778d12a542bc5f0/response.png\n",
            "label=2018,image=2018/a1153f9e50a0ad3882754bd609b518e3/response.png,pathname=/root/tensorflow_datasets/downloads/extracted/TAR_GZ.ucexport_download_id_1rN3dGF5azCk4VYfxkAcV2Ku5YIbjpeEcECjD30_OxYMtumT9to3RBAxdEFof_BgNL9s/train/2018/a1153f9e50a0ad3882754bd609b518e3/response.png\n",
            "label=2018,image=2018/1504aec5261976a4cef27007985b5ab2/response.png,pathname=/root/tensorflow_datasets/downloads/extracted/TAR_GZ.ucexport_download_id_1rN3dGF5azCk4VYfxkAcV2Ku5YIbjpeEcECjD30_OxYMtumT9to3RBAxdEFof_BgNL9s/train/2018/1504aec5261976a4cef27007985b5ab2/response.png\n",
            "label=2018,image=2018/6077543566282199afb159d390afc0c4/response.png,pathname=/root/tensorflow_datasets/downloads/extracted/TAR_GZ.ucexport_download_id_1rN3dGF5azCk4VYfxkAcV2Ku5YIbjpeEcECjD30_OxYMtumT9to3RBAxdEFof_BgNL9s/train/2018/6077543566282199afb159d390afc0c4/response.png\n",
            "label=2018,image=2018/214f8af0d8d3c6cb9121dd90f735eb92/response.png,pathname=/root/tensorflow_datasets/downloads/extracted/TAR_GZ.ucexport_download_id_1rN3dGF5azCk4VYfxkAcV2Ku5YIbjpeEcECjD30_OxYMtumT9to3RBAxdEFof_BgNL9s/train/2018/214f8af0d8d3c6cb9121dd90f735eb92/response.png\n",
            "label=2018,image=2018/9603e00d2e25cf516bd6915779253061/response.png,pathname=/root/tensorflow_datasets/downloads/extracted/TAR_GZ.ucexport_download_id_1rN3dGF5azCk4VYfxkAcV2Ku5YIbjpeEcECjD30_OxYMtumT9to3RBAxdEFof_BgNL9s/train/2018/9603e00d2e25cf516bd6915779253061/response.png\n",
            "label=2018,image=2018/103c4d9588b449050fcae828841e068e/response.png,pathname=/root/tensorflow_datasets/downloads/extracted/TAR_GZ.ucexport_download_id_1rN3dGF5azCk4VYfxkAcV2Ku5YIbjpeEcECjD30_OxYMtumT9to3RBAxdEFof_BgNL9s/train/2018/103c4d9588b449050fcae828841e068e/response.png\n",
            "label=2018,image=2018/6d3827385145217f6b85cd6634659e40/response.png,pathname=/root/tensorflow_datasets/downloads/extracted/TAR_GZ.ucexport_download_id_1rN3dGF5azCk4VYfxkAcV2Ku5YIbjpeEcECjD30_OxYMtumT9to3RBAxdEFof_BgNL9s/train/2018/6d3827385145217f6b85cd6634659e40/response.png\n",
            "label=2017,image=2017/4b008d1959bd8a1b677c8d5c07df667d/response.png,pathname=/root/tensorflow_datasets/downloads/extracted/TAR_GZ.ucexport_download_id_1rN3dGF5azCk4VYfxkAcV2Ku5YIbjpeEcECjD30_OxYMtumT9to3RBAxdEFof_BgNL9s/train/2017/4b008d1959bd8a1b677c8d5c07df667d/response.png\n",
            "label=2017,image=2017/118f62568c2ceb5f3ca8299955a3f03e/response.png,pathname=/root/tensorflow_datasets/downloads/extracted/TAR_GZ.ucexport_download_id_1rN3dGF5azCk4VYfxkAcV2Ku5YIbjpeEcECjD30_OxYMtumT9to3RBAxdEFof_BgNL9s/train/2017/118f62568c2ceb5f3ca8299955a3f03e/response.png\n",
            "label=2017,image=2017/d7b3c230b8c43c31aacf2aadbd2a77e3/response.png,pathname=/root/tensorflow_datasets/downloads/extracted/TAR_GZ.ucexport_download_id_1rN3dGF5azCk4VYfxkAcV2Ku5YIbjpeEcECjD30_OxYMtumT9to3RBAxdEFof_BgNL9s/train/2017/d7b3c230b8c43c31aacf2aadbd2a77e3/response.png\n",
            "label=2017,image=2017/aa2d53d1d99f102a542916989f409354/response.png,pathname=/root/tensorflow_datasets/downloads/extracted/TAR_GZ.ucexport_download_id_1rN3dGF5azCk4VYfxkAcV2Ku5YIbjpeEcECjD30_OxYMtumT9to3RBAxdEFof_BgNL9s/train/2017/aa2d53d1d99f102a542916989f409354/response.png\n",
            "label=2017,image=2017/1788f50dd40922aa29dd9795e5844a51/response.png,pathname=/root/tensorflow_datasets/downloads/extracted/TAR_GZ.ucexport_download_id_1rN3dGF5azCk4VYfxkAcV2Ku5YIbjpeEcECjD30_OxYMtumT9to3RBAxdEFof_BgNL9s/train/2017/1788f50dd40922aa29dd9795e5844a51/response.png\n",
            "label=2017,image=2017/948138b74a4eab585fdd61f5b1be2b1a/response.png,pathname=/root/tensorflow_datasets/downloads/extracted/TAR_GZ.ucexport_download_id_1rN3dGF5azCk4VYfxkAcV2Ku5YIbjpeEcECjD30_OxYMtumT9to3RBAxdEFof_BgNL9s/train/2017/948138b74a4eab585fdd61f5b1be2b1a/response.png\n",
            "label=2017,image=2017/1b3135225feaa17f0d219a10f15cf800/response.png,pathname=/root/tensorflow_datasets/downloads/extracted/TAR_GZ.ucexport_download_id_1rN3dGF5azCk4VYfxkAcV2Ku5YIbjpeEcECjD30_OxYMtumT9to3RBAxdEFof_BgNL9s/train/2017/1b3135225feaa17f0d219a10f15cf800/response.png\n",
            "label=2017,image=2017/2c5002c2cc201f365a9ff6f669d9425c/response.png,pathname=/root/tensorflow_datasets/downloads/extracted/TAR_GZ.ucexport_download_id_1rN3dGF5azCk4VYfxkAcV2Ku5YIbjpeEcECjD30_OxYMtumT9to3RBAxdEFof_BgNL9s/train/2017/2c5002c2cc201f365a9ff6f669d9425c/response.png\n",
            "label=2017,image=2017/9f9f55e93571e65c014af2cf87a2cf4e/response.png,pathname=/root/tensorflow_datasets/downloads/extracted/TAR_GZ.ucexport_download_id_1rN3dGF5azCk4VYfxkAcV2Ku5YIbjpeEcECjD30_OxYMtumT9to3RBAxdEFof_BgNL9s/train/2017/9f9f55e93571e65c014af2cf87a2cf4e/response.png\n",
            "label=2017,image=2017/2223b8fab4b6826d54126b0f4d9e7b3f/response.png,pathname=/root/tensorflow_datasets/downloads/extracted/TAR_GZ.ucexport_download_id_1rN3dGF5azCk4VYfxkAcV2Ku5YIbjpeEcECjD30_OxYMtumT9to3RBAxdEFof_BgNL9s/train/2017/2223b8fab4b6826d54126b0f4d9e7b3f/response.png\n",
            "label=2017,image=2017/7d6ca4061f52a45ac6439a417018a0a2/response.png,pathname=/root/tensorflow_datasets/downloads/extracted/TAR_GZ.ucexport_download_id_1rN3dGF5azCk4VYfxkAcV2Ku5YIbjpeEcECjD30_OxYMtumT9to3RBAxdEFof_BgNL9s/train/2017/7d6ca4061f52a45ac6439a417018a0a2/response.png\n",
            "label=2017,image=2017/2ca49300e868882f4cda1aba48efe497/response.png,pathname=/root/tensorflow_datasets/downloads/extracted/TAR_GZ.ucexport_download_id_1rN3dGF5azCk4VYfxkAcV2Ku5YIbjpeEcECjD30_OxYMtumT9to3RBAxdEFof_BgNL9s/train/2017/2ca49300e868882f4cda1aba48efe497/response.png\n",
            "\rShuffling and writing examples to /root/tensorflow_datasets/baoshan/2.3.0.incomplete18EZIQ/baoshan-train.tfrecord\n"
          ],
          "name": "stdout"
        },
        {
          "output_type": "display_data",
          "data": {
            "application/vnd.jupyter.widget-view+json": {
              "model_id": "745b6117b606479cbbd244cbb17589ee",
              "version_minor": 0,
              "version_major": 2
            },
            "text/plain": [
              "HBox(children=(FloatProgress(value=0.0, max=24.0), HTML(value='')))"
            ]
          },
          "metadata": {
            "tags": []
          }
        },
        {
          "output_type": "stream",
          "text": [
            "\r"
          ],
          "name": "stdout"
        },
        {
          "output_type": "display_data",
          "data": {
            "application/vnd.jupyter.widget-view+json": {
              "model_id": "273b62e92aa84830b243cfb18bcf9adf",
              "version_minor": 0,
              "version_major": 2
            },
            "text/plain": [
              "HBox(children=(FloatProgress(value=1.0, bar_style='info', max=1.0), HTML(value='')))"
            ]
          },
          "metadata": {
            "tags": []
          }
        },
        {
          "output_type": "stream",
          "text": [
            "label=2018,image=2018/d047de8e505e97d76564d9212da84cc3/response.png,pathname=/root/tensorflow_datasets/downloads/extracted/TAR_GZ.ucexport_download_id_1gt76NtandDjq0Y8bv0V72apr6UgEmRFhHraEUDGVJFAQIYXaUkGMdg_MbfuSrVXF-JE/test/2018/d047de8e505e97d76564d9212da84cc3/response.png\n",
            "label=2018,image=2018/ceee31c9d3a7818bd0747773fc75d55c/response.png,pathname=/root/tensorflow_datasets/downloads/extracted/TAR_GZ.ucexport_download_id_1gt76NtandDjq0Y8bv0V72apr6UgEmRFhHraEUDGVJFAQIYXaUkGMdg_MbfuSrVXF-JE/test/2018/ceee31c9d3a7818bd0747773fc75d55c/response.png\n",
            "label=2018,image=2018/e3b5ea6b2f782c9ffd97294fae4cf515/response.png,pathname=/root/tensorflow_datasets/downloads/extracted/TAR_GZ.ucexport_download_id_1gt76NtandDjq0Y8bv0V72apr6UgEmRFhHraEUDGVJFAQIYXaUkGMdg_MbfuSrVXF-JE/test/2018/e3b5ea6b2f782c9ffd97294fae4cf515/response.png\n",
            "label=2018,image=2018/d6a3cbe74fcb350b98e9e3930ef129ef/response.png,pathname=/root/tensorflow_datasets/downloads/extracted/TAR_GZ.ucexport_download_id_1gt76NtandDjq0Y8bv0V72apr6UgEmRFhHraEUDGVJFAQIYXaUkGMdg_MbfuSrVXF-JE/test/2018/d6a3cbe74fcb350b98e9e3930ef129ef/response.png\n",
            "label=2018,image=2018/f9bd46826c7db2e160b9e50fd0d5214e/response.png,pathname=/root/tensorflow_datasets/downloads/extracted/TAR_GZ.ucexport_download_id_1gt76NtandDjq0Y8bv0V72apr6UgEmRFhHraEUDGVJFAQIYXaUkGMdg_MbfuSrVXF-JE/test/2018/f9bd46826c7db2e160b9e50fd0d5214e/response.png\n",
            "label=2018,image=2018/eec9fabec4dc278d1c199cc96531fe9b/response.png,pathname=/root/tensorflow_datasets/downloads/extracted/TAR_GZ.ucexport_download_id_1gt76NtandDjq0Y8bv0V72apr6UgEmRFhHraEUDGVJFAQIYXaUkGMdg_MbfuSrVXF-JE/test/2018/eec9fabec4dc278d1c199cc96531fe9b/response.png\n",
            "label=2017,image=2017/774759148e0f6147168b053f18402a9e/response.png,pathname=/root/tensorflow_datasets/downloads/extracted/TAR_GZ.ucexport_download_id_1gt76NtandDjq0Y8bv0V72apr6UgEmRFhHraEUDGVJFAQIYXaUkGMdg_MbfuSrVXF-JE/test/2017/774759148e0f6147168b053f18402a9e/response.png\n",
            "label=2017,image=2017/8caac70ce37c72606930abf8632a818f/response.png,pathname=/root/tensorflow_datasets/downloads/extracted/TAR_GZ.ucexport_download_id_1gt76NtandDjq0Y8bv0V72apr6UgEmRFhHraEUDGVJFAQIYXaUkGMdg_MbfuSrVXF-JE/test/2017/8caac70ce37c72606930abf8632a818f/response.png\n",
            "label=2017,image=2017/94a9989f251affa2fb396bc992128539/response.png,pathname=/root/tensorflow_datasets/downloads/extracted/TAR_GZ.ucexport_download_id_1gt76NtandDjq0Y8bv0V72apr6UgEmRFhHraEUDGVJFAQIYXaUkGMdg_MbfuSrVXF-JE/test/2017/94a9989f251affa2fb396bc992128539/response.png\n",
            "label=2017,image=2017/67c283f45e797b995d705b2bbb82f217/response.png,pathname=/root/tensorflow_datasets/downloads/extracted/TAR_GZ.ucexport_download_id_1gt76NtandDjq0Y8bv0V72apr6UgEmRFhHraEUDGVJFAQIYXaUkGMdg_MbfuSrVXF-JE/test/2017/67c283f45e797b995d705b2bbb82f217/response.png\n",
            "label=2017,image=2017/80e0f8b5bf986bc300858c30d8eae050/response.png,pathname=/root/tensorflow_datasets/downloads/extracted/TAR_GZ.ucexport_download_id_1gt76NtandDjq0Y8bv0V72apr6UgEmRFhHraEUDGVJFAQIYXaUkGMdg_MbfuSrVXF-JE/test/2017/80e0f8b5bf986bc300858c30d8eae050/response.png\n",
            "label=2017,image=2017/7080f9ffab969c2d95f9494516abeb73/response.png,pathname=/root/tensorflow_datasets/downloads/extracted/TAR_GZ.ucexport_download_id_1gt76NtandDjq0Y8bv0V72apr6UgEmRFhHraEUDGVJFAQIYXaUkGMdg_MbfuSrVXF-JE/test/2017/7080f9ffab969c2d95f9494516abeb73/response.png\n",
            "Shuffling and writing examples to /root/tensorflow_datasets/baoshan/2.3.0.incomplete18EZIQ/baoshan-test.tfrecord\n"
          ],
          "name": "stdout"
        },
        {
          "output_type": "display_data",
          "data": {
            "application/vnd.jupyter.widget-view+json": {
              "model_id": "83d99fdd736e4b47b1385c04a3211899",
              "version_minor": 0,
              "version_major": 2
            },
            "text/plain": [
              "HBox(children=(FloatProgress(value=0.0, max=12.0), HTML(value='')))"
            ]
          },
          "metadata": {
            "tags": []
          }
        },
        {
          "output_type": "stream",
          "text": [
            "\u001b[1mDataset baoshan downloaded and prepared to /root/tensorflow_datasets/baoshan/2.3.0. Subsequent calls will reuse this data.\u001b[0m\n",
            "\r"
          ],
          "name": "stdout"
        }
      ]
    },
    {
      "cell_type": "code",
      "metadata": {
        "colab": {
          "base_uri": "https://localhost:8080/"
        },
        "id": "XxlcV81SxZd9",
        "outputId": "89012dc0-7ba7-4010-8454-df2d95b29488"
      },
      "source": [
        "ds"
      ],
      "execution_count": 3,
      "outputs": [
        {
          "output_type": "execute_result",
          "data": {
            "text/plain": [
              "<_OptionsDataset shapes: {filename: (), image: (96, 96, 3), label: ()}, types: {filename: tf.string, image: tf.uint8, label: tf.int64}>"
            ]
          },
          "metadata": {
            "tags": []
          },
          "execution_count": 3
        }
      ]
    },
    {
      "cell_type": "code",
      "metadata": {
        "colab": {
          "base_uri": "https://localhost:8080/"
        },
        "id": "Ivkjk0jA0Vdj",
        "outputId": "efc8cff8-5ead-4a64-a04f-56c0fdc1fd72"
      },
      "source": [
        "tfds.list_builders()"
      ],
      "execution_count": 8,
      "outputs": [
        {
          "output_type": "execute_result",
          "data": {
            "text/plain": [
              "['abstract_reasoning',\n",
              " 'accentdb',\n",
              " 'aeslc',\n",
              " 'aflw2k3d',\n",
              " 'ag_news_subset',\n",
              " 'ai2_arc',\n",
              " 'ai2_arc_with_ir',\n",
              " 'amazon_us_reviews',\n",
              " 'anli',\n",
              " 'arc',\n",
              " 'bair_robot_pushing_small',\n",
              " 'baoshan',\n",
              " 'bccd',\n",
              " 'beans',\n",
              " 'big_patent',\n",
              " 'bigearthnet',\n",
              " 'billsum',\n",
              " 'binarized_mnist',\n",
              " 'binary_alpha_digits',\n",
              " 'blimp',\n",
              " 'bool_q',\n",
              " 'c4',\n",
              " 'caltech101',\n",
              " 'caltech_birds2010',\n",
              " 'caltech_birds2011',\n",
              " 'cars196',\n",
              " 'cassava',\n",
              " 'cats_vs_dogs',\n",
              " 'celeb_a',\n",
              " 'celeb_a_hq',\n",
              " 'cfq',\n",
              " 'chexpert',\n",
              " 'cifar10',\n",
              " 'cifar100',\n",
              " 'cifar10_1',\n",
              " 'cifar10_corrupted',\n",
              " 'citrus_leaves',\n",
              " 'cityscapes',\n",
              " 'civil_comments',\n",
              " 'clevr',\n",
              " 'clic',\n",
              " 'clinc_oos',\n",
              " 'cmaterdb',\n",
              " 'cnn_dailymail',\n",
              " 'coco',\n",
              " 'coco_captions',\n",
              " 'coil100',\n",
              " 'colorectal_histology',\n",
              " 'colorectal_histology_large',\n",
              " 'common_voice',\n",
              " 'coqa',\n",
              " 'cos_e',\n",
              " 'cosmos_qa',\n",
              " 'covid19sum',\n",
              " 'crema_d',\n",
              " 'curated_breast_imaging_ddsm',\n",
              " 'cycle_gan',\n",
              " 'deep_weeds',\n",
              " 'definite_pronoun_resolution',\n",
              " 'dementiabank',\n",
              " 'diabetic_retinopathy_detection',\n",
              " 'div2k',\n",
              " 'dmlab',\n",
              " 'downsampled_imagenet',\n",
              " 'dsprites',\n",
              " 'dtd',\n",
              " 'duke_ultrasound',\n",
              " 'emnist',\n",
              " 'eraser_multi_rc',\n",
              " 'esnli',\n",
              " 'eurosat',\n",
              " 'fashion_mnist',\n",
              " 'flic',\n",
              " 'flores',\n",
              " 'food101',\n",
              " 'forest_fires',\n",
              " 'fuss',\n",
              " 'gap',\n",
              " 'geirhos_conflict_stimuli',\n",
              " 'genomics_ood',\n",
              " 'german_credit_numeric',\n",
              " 'gigaword',\n",
              " 'glue',\n",
              " 'goemotions',\n",
              " 'gpt3',\n",
              " 'groove',\n",
              " 'gtzan',\n",
              " 'gtzan_music_speech',\n",
              " 'hellaswag',\n",
              " 'higgs',\n",
              " 'horses_or_humans',\n",
              " 'i_naturalist2017',\n",
              " 'imagenet2012',\n",
              " 'imagenet2012_corrupted',\n",
              " 'imagenet2012_real',\n",
              " 'imagenet2012_subset',\n",
              " 'imagenet_a',\n",
              " 'imagenet_r',\n",
              " 'imagenet_resized',\n",
              " 'imagenet_v2',\n",
              " 'imagenette',\n",
              " 'imagewang',\n",
              " 'imdb_reviews',\n",
              " 'irc_disentanglement',\n",
              " 'iris',\n",
              " 'kitti',\n",
              " 'kmnist',\n",
              " 'lfw',\n",
              " 'librispeech',\n",
              " 'librispeech_lm',\n",
              " 'libritts',\n",
              " 'ljspeech',\n",
              " 'lm1b',\n",
              " 'lost_and_found',\n",
              " 'lsun',\n",
              " 'malaria',\n",
              " 'math_dataset',\n",
              " 'mctaco',\n",
              " 'mnist',\n",
              " 'mnist_corrupted',\n",
              " 'movie_lens',\n",
              " 'movie_rationales',\n",
              " 'movielens',\n",
              " 'moving_mnist',\n",
              " 'multi_news',\n",
              " 'multi_nli',\n",
              " 'multi_nli_mismatch',\n",
              " 'natural_questions',\n",
              " 'natural_questions_open',\n",
              " 'newsroom',\n",
              " 'nsynth',\n",
              " 'nyu_depth_v2',\n",
              " 'omniglot',\n",
              " 'open_images_challenge2019_detection',\n",
              " 'open_images_v4',\n",
              " 'openbookqa',\n",
              " 'opinion_abstracts',\n",
              " 'opinosis',\n",
              " 'opus',\n",
              " 'oxford_flowers102',\n",
              " 'oxford_iiit_pet',\n",
              " 'para_crawl',\n",
              " 'patch_camelyon',\n",
              " 'paws_wiki',\n",
              " 'paws_x_wiki',\n",
              " 'pet_finder',\n",
              " 'pg19',\n",
              " 'places365_small',\n",
              " 'plant_leaves',\n",
              " 'plant_village',\n",
              " 'plantae_k',\n",
              " 'qa4mre',\n",
              " 'qasc',\n",
              " 'quickdraw_bitmap',\n",
              " 'radon',\n",
              " 'reddit',\n",
              " 'reddit_disentanglement',\n",
              " 'reddit_tifu',\n",
              " 'resisc45',\n",
              " 'robonet',\n",
              " 'rock_paper_scissors',\n",
              " 'rock_you',\n",
              " 'salient_span_wikipedia',\n",
              " 'samsum',\n",
              " 'savee',\n",
              " 'scan',\n",
              " 'scene_parse150',\n",
              " 'scicite',\n",
              " 'scientific_papers',\n",
              " 'sentiment140',\n",
              " 'shapes3d',\n",
              " 'smallnorb',\n",
              " 'snli',\n",
              " 'so2sat',\n",
              " 'speech_commands',\n",
              " 'spoken_digit',\n",
              " 'squad',\n",
              " 'stanford_dogs',\n",
              " 'stanford_online_products',\n",
              " 'starcraft_video',\n",
              " 'stl10',\n",
              " 'sun397',\n",
              " 'super_glue',\n",
              " 'svhn_cropped',\n",
              " 'ted_hrlr_translate',\n",
              " 'ted_multi_translate',\n",
              " 'tedlium',\n",
              " 'tf_flowers',\n",
              " 'the300w_lp',\n",
              " 'tiny_shakespeare',\n",
              " 'titanic',\n",
              " 'trec',\n",
              " 'trivia_qa',\n",
              " 'tydi_qa',\n",
              " 'uc_merced',\n",
              " 'ucf101',\n",
              " 'vctk',\n",
              " 'vgg_face2',\n",
              " 'visual_domain_decathlon',\n",
              " 'voc',\n",
              " 'voxceleb',\n",
              " 'voxforge',\n",
              " 'waymo_open_dataset',\n",
              " 'web_questions',\n",
              " 'wider_face',\n",
              " 'wiki40b',\n",
              " 'wikihow',\n",
              " 'wikipedia',\n",
              " 'wikipedia_toxicity_subtypes',\n",
              " 'wine_quality',\n",
              " 'winogrande',\n",
              " 'wmt14_translate',\n",
              " 'wmt15_translate',\n",
              " 'wmt16_translate',\n",
              " 'wmt17_translate',\n",
              " 'wmt18_translate',\n",
              " 'wmt19_translate',\n",
              " 'wmt_t2t_translate',\n",
              " 'wmt_translate',\n",
              " 'wordnet',\n",
              " 'xnli',\n",
              " 'xquad',\n",
              " 'xsum',\n",
              " 'yelp_polarity_reviews',\n",
              " 'yes_no']"
            ]
          },
          "metadata": {
            "tags": []
          },
          "execution_count": 8
        }
      ]
    },
    {
      "cell_type": "code",
      "metadata": {
        "colab": {
          "base_uri": "https://localhost:8080/"
        },
        "id": "52qzM8xo08h0",
        "outputId": "2c14c7a6-20c4-41b9-ac80-31a129f8c2af"
      },
      "source": [
        "%%shell\n",
        "ls -al /root/tensorflow_datasets/downloads\n",
        "ls -al /root/tensorflow_datasets/downloads/extracted\n",
        "ls -al /root/tensorflow_datasets/downloads/extracted/TAR_GZ.ucexport_download_id_1gt76NtandDjq0Y8bv0V72apr6UgEmRFhHraEUDGVJFAQIYXaUkGMdg_MbfuSrVXF-JE\n",
        "ls -al /root/tensorflow_datasets/downloads/extracted/TAR_GZ.ucexport_download_id_1gt76NtandDjq0Y8bv0V72apr6UgEmRFhHraEUDGVJFAQIYXaUkGMdg_MbfuSrVXF-JE/test\n"
      ],
      "execution_count": 18,
      "outputs": [
        {
          "output_type": "stream",
          "text": [
            "total 1184\n",
            "drwxr-xr-x 3 root root   4096 Nov 23 01:43 .\n",
            "drwxr-xr-x 4 root root   4096 Nov 23 01:43 ..\n",
            "drwxr-xr-x 4 root root   4096 Nov 23 01:43 extracted\n",
            "-rw-r--r-- 1 root root 393330 Nov 23 01:43 ucexport_download_id_1gt76NtandDjq0Y8bv0V72apr6UgEmRFhHraEUDGVJFAQIYXaUkGMdg_MbfuSrVXF-JE\n",
            "-rw-r--r-- 1 root root    264 Nov 23 01:43 ucexport_download_id_1gt76NtandDjq0Y8bv0V72apr6UgEmRFhHraEUDGVJFAQIYXaUkGMdg_MbfuSrVXF-JE.INFO\n",
            "-rw-r--r-- 1 root root 790894 Nov 23 01:43 ucexport_download_id_1rN3dGF5azCk4VYfxkAcV2Ku5YIbjpeEcECjD30_OxYMtumT9to3RBAxdEFof_BgNL9s\n",
            "-rw-r--r-- 1 root root    265 Nov 23 01:43 ucexport_download_id_1rN3dGF5azCk4VYfxkAcV2Ku5YIbjpeEcECjD30_OxYMtumT9to3RBAxdEFof_BgNL9s.INFO\n",
            "total 16\n",
            "drwxr-xr-x 4 root root 4096 Nov 23 01:43 .\n",
            "drwxr-xr-x 3 root root 4096 Nov 23 01:43 ..\n",
            "drwxr-xr-x 3 root root 4096 Nov 23 01:43 TAR_GZ.ucexport_download_id_1gt76NtandDjq0Y8bv0V72apr6UgEmRFhHraEUDGVJFAQIYXaUkGMdg_MbfuSrVXF-JE\n",
            "drwxr-xr-x 3 root root 4096 Nov 23 01:43 TAR_GZ.ucexport_download_id_1rN3dGF5azCk4VYfxkAcV2Ku5YIbjpeEcECjD30_OxYMtumT9to3RBAxdEFof_BgNL9s\n",
            "total 12\n",
            "drwxr-xr-x 3 root root 4096 Nov 23 01:43 .\n",
            "drwxr-xr-x 4 root root 4096 Nov 23 01:43 ..\n",
            "drwxr-xr-x 4 root root 4096 Nov 23 01:43 test\n",
            "total 16\n",
            "drwxr-xr-x 4 root root 4096 Nov 23 01:43 .\n",
            "drwxr-xr-x 3 root root 4096 Nov 23 01:43 ..\n",
            "drwxr-xr-x 8 root root 4096 Nov 23 01:43 2017\n",
            "drwxr-xr-x 8 root root 4096 Nov 23 01:43 2018\n"
          ],
          "name": "stdout"
        },
        {
          "output_type": "execute_result",
          "data": {
            "text/plain": [
              ""
            ]
          },
          "metadata": {
            "tags": []
          },
          "execution_count": 18
        }
      ]
    },
    {
      "cell_type": "markdown",
      "metadata": {
        "id": "qBpyOTolx7kP"
      },
      "source": [
        "# unittest dataset "
      ]
    },
    {
      "cell_type": "markdown",
      "metadata": {
        "id": "zMsv3Ii_yCOX"
      },
      "source": [
        "FIXME: still need to manually create working directory"
      ]
    },
    {
      "cell_type": "code",
      "metadata": {
        "colab": {
          "base_uri": "https://localhost:8080/"
        },
        "id": "zvU20_eJxtFk",
        "outputId": "41a04765-3486-4561-eeda-1b9c1e89cbd0"
      },
      "source": [
        "%%shell\n",
        "cd /usr/local/lib/python3.6/dist-packages/tensorflow_datasets/testing/\n",
        "mkdir test_data\n",
        "cd test_data\n",
        "mkdir fake_examples\n",
        "cd fake_examples\n",
        "mkdir baoshan"
      ],
      "execution_count": 5,
      "outputs": [
        {
          "output_type": "execute_result",
          "data": {
            "text/plain": [
              ""
            ]
          },
          "metadata": {
            "tags": []
          },
          "execution_count": 5
        }
      ]
    },
    {
      "cell_type": "markdown",
      "metadata": {
        "id": "n1o0yYKjyMDu"
      },
      "source": [
        "* run the unittest\n",
        "* FIXME: still have one error need to fix\n",
        "* seems OK to load the dataset"
      ]
    },
    {
      "cell_type": "code",
      "metadata": {
        "colab": {
          "base_uri": "https://localhost:8080/",
          "height": 1000
        },
        "id": "PqtBdZIVxekG",
        "outputId": "a73a0d16-31e1-4669-91ba-523077513b81"
      },
      "source": [
        "%%shell\n",
        "cd /content/baoshan\n",
        "python baoshan_test.py"
      ],
      "execution_count": 6,
      "outputs": [
        {
          "output_type": "stream",
          "text": [
            "2020-11-23 01:45:27.965042: I tensorflow/stream_executor/platform/default/dso_loader.cc:48] Successfully opened dynamic library libcudart.so.10.1\n",
            "Running tests under Python 3.6.9: /usr/bin/python3\n",
            "[ RUN      ] BaoshanTest.test_baseclass\n",
            "INFO:tensorflow:time(__main__.BaoshanTest.test_baseclass): 0.22s\n",
            "I1123 01:45:30.535834 140132483913600 test_util.py:1973] time(__main__.BaoshanTest.test_baseclass): 0.22s\n",
            "[       OK ] BaoshanTest.test_baseclass\n",
            "[ RUN      ] BaoshanTest.test_download_and_prepare_as_dataset\n",
            "Total configs: 0\n",
            "I1123 01:45:30.539193 140132483913600 dataset_builder.py:357] Generating dataset baoshan (/tmp/baoshan_testypo9gpje/tmparmk0cxb/baoshan/2.3.0)\n",
            "\u001b[1mDownloading and preparing dataset baoshan/2.3.0 (download: Unknown size, generated: Unknown size, total: Unknown size) to /tmp/baoshan_testypo9gpje/tmparmk0cxb/baoshan/2.3.0...\u001b[0m\n",
            "INFO:tensorflow:time(__main__.BaoshanTest.test_download_and_prepare_as_dataset): 0.17s\n",
            "I1123 01:45:30.704864 140132483913600 test_util.py:1973] time(__main__.BaoshanTest.test_download_and_prepare_as_dataset): 0.17s\n",
            "[  FAILED  ] BaoshanTest.test_download_and_prepare_as_dataset\n",
            "[ RUN      ] BaoshanTest.test_info\n",
            "INFO:tensorflow:time(__main__.BaoshanTest.test_info): 0.0s\n",
            "I1123 01:45:30.708003 140132483913600 test_util.py:1973] time(__main__.BaoshanTest.test_info): 0.0s\n",
            "[       OK ] BaoshanTest.test_info\n",
            "[ RUN      ] BaoshanTest.test_registered\n",
            "INFO:tensorflow:time(__main__.BaoshanTest.test_registered): 0.0s\n",
            "I1123 01:45:30.710457 140132483913600 test_util.py:1973] time(__main__.BaoshanTest.test_registered): 0.0s\n",
            "[       OK ] BaoshanTest.test_registered\n",
            "[ RUN      ] BaoshanTest.test_session\n",
            "[  SKIPPED ] BaoshanTest.test_session\n",
            "======================================================================\n",
            "ERROR: test_download_and_prepare_as_dataset (__main__.BaoshanTest)\n",
            "BaoshanTest.test_download_and_prepare_as_dataset\n",
            "Run the decorated test method.\n",
            "----------------------------------------------------------------------\n",
            "Traceback (most recent call last):\n",
            "  File \"/usr/local/lib/python3.6/dist-packages/tensorflow_datasets/testing/test_utils.py\", line 269, in decorated\n",
            "    f(self, *args, **kwargs)\n",
            "  File \"/usr/local/lib/python3.6/dist-packages/tensorflow_datasets/testing/dataset_builder_testing.py\", line 308, in test_download_and_prepare_as_dataset\n",
            "    self._download_and_prepare_as_dataset(self.builder)\n",
            "  File \"/usr/local/lib/python3.6/dist-packages/tensorflow_datasets/testing/dataset_builder_testing.py\", line 372, in _download_and_prepare_as_dataset\n",
            "    builder.download_and_prepare(download_config=download_config)\n",
            "  File \"/usr/local/lib/python3.6/dist-packages/tensorflow_datasets/core/dataset_builder.py\", line 387, in download_and_prepare\n",
            "    download_config=download_config)\n",
            "  File \"/usr/local/lib/python3.6/dist-packages/tensorflow_datasets/core/dataset_builder.py\", line 1024, in _download_and_prepare\n",
            "    max_examples_per_split=download_config.max_examples_per_split,\n",
            "  File \"/usr/local/lib/python3.6/dist-packages/tensorflow_datasets/core/dataset_builder.py\", line 962, in _download_and_prepare\n",
            "    dl_manager, **split_generators_kwargs):\n",
            "  File \"/content/baoshan/baoshan.py\", line 74, in _split_generators\n",
            "    gen_kwargs={'path': \"%s/%s\" %(files[\"train\"],'train')}\n",
            "TypeError: string indices must be integers\n",
            "\n",
            "----------------------------------------------------------------------\n",
            "Ran 5 tests in 0.397s\n",
            "\n",
            "FAILED (errors=1, skipped=1)\n"
          ],
          "name": "stdout"
        },
        {
          "output_type": "error",
          "ename": "CalledProcessError",
          "evalue": "ignored",
          "traceback": [
            "\u001b[0;31m---------------------------------------------------------------------------\u001b[0m",
            "\u001b[0;31mCalledProcessError\u001b[0m                        Traceback (most recent call last)",
            "\u001b[0;32m<ipython-input-6-6566b58523af>\u001b[0m in \u001b[0;36m<module>\u001b[0;34m()\u001b[0m\n\u001b[0;32m----> 1\u001b[0;31m \u001b[0mget_ipython\u001b[0m\u001b[0;34m(\u001b[0m\u001b[0;34m)\u001b[0m\u001b[0;34m.\u001b[0m\u001b[0mrun_cell_magic\u001b[0m\u001b[0;34m(\u001b[0m\u001b[0;34m'shell'\u001b[0m\u001b[0;34m,\u001b[0m \u001b[0;34m''\u001b[0m\u001b[0;34m,\u001b[0m \u001b[0;34m'cd /content/baoshan\\npython baoshan_test.py'\u001b[0m\u001b[0;34m)\u001b[0m\u001b[0;34m\u001b[0m\u001b[0;34m\u001b[0m\u001b[0m\n\u001b[0m",
            "\u001b[0;32m/usr/local/lib/python3.6/dist-packages/IPython/core/interactiveshell.py\u001b[0m in \u001b[0;36mrun_cell_magic\u001b[0;34m(self, magic_name, line, cell)\u001b[0m\n\u001b[1;32m   2115\u001b[0m             \u001b[0mmagic_arg_s\u001b[0m \u001b[0;34m=\u001b[0m \u001b[0mself\u001b[0m\u001b[0;34m.\u001b[0m\u001b[0mvar_expand\u001b[0m\u001b[0;34m(\u001b[0m\u001b[0mline\u001b[0m\u001b[0;34m,\u001b[0m \u001b[0mstack_depth\u001b[0m\u001b[0;34m)\u001b[0m\u001b[0;34m\u001b[0m\u001b[0;34m\u001b[0m\u001b[0m\n\u001b[1;32m   2116\u001b[0m             \u001b[0;32mwith\u001b[0m \u001b[0mself\u001b[0m\u001b[0;34m.\u001b[0m\u001b[0mbuiltin_trap\u001b[0m\u001b[0;34m:\u001b[0m\u001b[0;34m\u001b[0m\u001b[0;34m\u001b[0m\u001b[0m\n\u001b[0;32m-> 2117\u001b[0;31m                 \u001b[0mresult\u001b[0m \u001b[0;34m=\u001b[0m \u001b[0mfn\u001b[0m\u001b[0;34m(\u001b[0m\u001b[0mmagic_arg_s\u001b[0m\u001b[0;34m,\u001b[0m \u001b[0mcell\u001b[0m\u001b[0;34m)\u001b[0m\u001b[0;34m\u001b[0m\u001b[0;34m\u001b[0m\u001b[0m\n\u001b[0m\u001b[1;32m   2118\u001b[0m             \u001b[0;32mreturn\u001b[0m \u001b[0mresult\u001b[0m\u001b[0;34m\u001b[0m\u001b[0;34m\u001b[0m\u001b[0m\n\u001b[1;32m   2119\u001b[0m \u001b[0;34m\u001b[0m\u001b[0m\n",
            "\u001b[0;32m/usr/local/lib/python3.6/dist-packages/google/colab/_system_commands.py\u001b[0m in \u001b[0;36m_shell_cell_magic\u001b[0;34m(args, cmd)\u001b[0m\n\u001b[1;32m    110\u001b[0m   \u001b[0mresult\u001b[0m \u001b[0;34m=\u001b[0m \u001b[0m_run_command\u001b[0m\u001b[0;34m(\u001b[0m\u001b[0mcmd\u001b[0m\u001b[0;34m,\u001b[0m \u001b[0mclear_streamed_output\u001b[0m\u001b[0;34m=\u001b[0m\u001b[0;32mFalse\u001b[0m\u001b[0;34m)\u001b[0m\u001b[0;34m\u001b[0m\u001b[0;34m\u001b[0m\u001b[0m\n\u001b[1;32m    111\u001b[0m   \u001b[0;32mif\u001b[0m \u001b[0;32mnot\u001b[0m \u001b[0mparsed_args\u001b[0m\u001b[0;34m.\u001b[0m\u001b[0mignore_errors\u001b[0m\u001b[0;34m:\u001b[0m\u001b[0;34m\u001b[0m\u001b[0;34m\u001b[0m\u001b[0m\n\u001b[0;32m--> 112\u001b[0;31m     \u001b[0mresult\u001b[0m\u001b[0;34m.\u001b[0m\u001b[0mcheck_returncode\u001b[0m\u001b[0;34m(\u001b[0m\u001b[0;34m)\u001b[0m\u001b[0;34m\u001b[0m\u001b[0;34m\u001b[0m\u001b[0m\n\u001b[0m\u001b[1;32m    113\u001b[0m   \u001b[0;32mreturn\u001b[0m \u001b[0mresult\u001b[0m\u001b[0;34m\u001b[0m\u001b[0;34m\u001b[0m\u001b[0m\n\u001b[1;32m    114\u001b[0m \u001b[0;34m\u001b[0m\u001b[0m\n",
            "\u001b[0;32m/usr/local/lib/python3.6/dist-packages/google/colab/_system_commands.py\u001b[0m in \u001b[0;36mcheck_returncode\u001b[0;34m(self)\u001b[0m\n\u001b[1;32m    136\u001b[0m     \u001b[0;32mif\u001b[0m \u001b[0mself\u001b[0m\u001b[0;34m.\u001b[0m\u001b[0mreturncode\u001b[0m\u001b[0;34m:\u001b[0m\u001b[0;34m\u001b[0m\u001b[0;34m\u001b[0m\u001b[0m\n\u001b[1;32m    137\u001b[0m       raise subprocess.CalledProcessError(\n\u001b[0;32m--> 138\u001b[0;31m           returncode=self.returncode, cmd=self.args, output=self.output)\n\u001b[0m\u001b[1;32m    139\u001b[0m \u001b[0;34m\u001b[0m\u001b[0m\n\u001b[1;32m    140\u001b[0m   \u001b[0;32mdef\u001b[0m \u001b[0m_repr_pretty_\u001b[0m\u001b[0;34m(\u001b[0m\u001b[0mself\u001b[0m\u001b[0;34m,\u001b[0m \u001b[0mp\u001b[0m\u001b[0;34m,\u001b[0m \u001b[0mcycle\u001b[0m\u001b[0;34m)\u001b[0m\u001b[0;34m:\u001b[0m  \u001b[0;31m# pylint:disable=unused-argument\u001b[0m\u001b[0;34m\u001b[0m\u001b[0;34m\u001b[0m\u001b[0m\n",
            "\u001b[0;31mCalledProcessError\u001b[0m: Command 'cd /content/baoshan\npython baoshan_test.py' returned non-zero exit status 1."
          ]
        }
      ]
    },
    {
      "cell_type": "markdown",
      "metadata": {
        "id": "FhDRUdEHylVH"
      },
      "source": [
        "# How to create custom dataset\n",
        "* tfds new baoshan\n",
        "* modify all related code, result provided\n",
        "* reference: [Writing custom datasets](https://www.tensorflow.org/datasets/add_dataset)"
      ]
    }
  ]
}